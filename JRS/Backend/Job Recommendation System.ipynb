{
 "cells": [
  {
   "cell_type": "markdown",
   "id": "312fd1c0",
   "metadata": {},
   "source": [
    "# Data Collection & Exploratory"
   ]
  },
  {
   "cell_type": "code",
   "execution_count": 1,
   "id": "ed2b518e",
   "metadata": {},
   "outputs": [],
   "source": [
    "import numpy as np\n",
    "import pandas as pd"
   ]
  },
  {
   "cell_type": "code",
   "execution_count": 2,
   "id": "93b15ef5",
   "metadata": {},
   "outputs": [],
   "source": [
    "df = pd.read_csv('Combined_Jobs_Final.csv')"
   ]
  },
  {
   "cell_type": "code",
   "execution_count": 3,
   "id": "786df900",
   "metadata": {},
   "outputs": [
    {
     "data": {
      "text/html": [
       "<div>\n",
       "<style scoped>\n",
       "    .dataframe tbody tr th:only-of-type {\n",
       "        vertical-align: middle;\n",
       "    }\n",
       "\n",
       "    .dataframe tbody tr th {\n",
       "        vertical-align: top;\n",
       "    }\n",
       "\n",
       "    .dataframe thead th {\n",
       "        text-align: right;\n",
       "    }\n",
       "</style>\n",
       "<table border=\"1\" class=\"dataframe\">\n",
       "  <thead>\n",
       "    <tr style=\"text-align: right;\">\n",
       "      <th></th>\n",
       "      <th>Job.ID</th>\n",
       "      <th>Provider</th>\n",
       "      <th>Status</th>\n",
       "      <th>Slug</th>\n",
       "      <th>Title</th>\n",
       "      <th>Position</th>\n",
       "      <th>Company</th>\n",
       "      <th>City</th>\n",
       "      <th>State.Name</th>\n",
       "      <th>State.Code</th>\n",
       "      <th>...</th>\n",
       "      <th>Industry</th>\n",
       "      <th>Job.Description</th>\n",
       "      <th>Requirements</th>\n",
       "      <th>Salary</th>\n",
       "      <th>Listing.Start</th>\n",
       "      <th>Listing.End</th>\n",
       "      <th>Employment.Type</th>\n",
       "      <th>Education.Required</th>\n",
       "      <th>Created.At</th>\n",
       "      <th>Updated.At</th>\n",
       "    </tr>\n",
       "  </thead>\n",
       "  <tbody>\n",
       "    <tr>\n",
       "      <th>0</th>\n",
       "      <td>111</td>\n",
       "      <td>1</td>\n",
       "      <td>open</td>\n",
       "      <td>palo-alto-ca-tacolicious-server</td>\n",
       "      <td>Server @ Tacolicious</td>\n",
       "      <td>Server</td>\n",
       "      <td>Tacolicious</td>\n",
       "      <td>Palo Alto</td>\n",
       "      <td>California</td>\n",
       "      <td>CA</td>\n",
       "      <td>...</td>\n",
       "      <td>Food and Beverages</td>\n",
       "      <td>Tacolicious' first Palo Alto store just opened...</td>\n",
       "      <td>NaN</td>\n",
       "      <td>8.0</td>\n",
       "      <td>NaN</td>\n",
       "      <td>NaN</td>\n",
       "      <td>Part-Time</td>\n",
       "      <td>NaN</td>\n",
       "      <td>2013-03-12 02:08:28 UTC</td>\n",
       "      <td>2014-08-16 15:35:36 UTC</td>\n",
       "    </tr>\n",
       "    <tr>\n",
       "      <th>1</th>\n",
       "      <td>113</td>\n",
       "      <td>1</td>\n",
       "      <td>open</td>\n",
       "      <td>san-francisco-ca-claude-lane-kitchen-staff-chef</td>\n",
       "      <td>Kitchen Staff/Chef @ Claude Lane</td>\n",
       "      <td>Kitchen Staff/Chef</td>\n",
       "      <td>Claude Lane</td>\n",
       "      <td>San Francisco</td>\n",
       "      <td>California</td>\n",
       "      <td>CA</td>\n",
       "      <td>...</td>\n",
       "      <td>Food and Beverages</td>\n",
       "      <td>\\r\\n\\r\\nNew French Brasserie in S.F. Financia...</td>\n",
       "      <td>NaN</td>\n",
       "      <td>0.0</td>\n",
       "      <td>NaN</td>\n",
       "      <td>NaN</td>\n",
       "      <td>Part-Time</td>\n",
       "      <td>NaN</td>\n",
       "      <td>2013-04-12 08:36:36 UTC</td>\n",
       "      <td>2014-08-16 15:35:36 UTC</td>\n",
       "    </tr>\n",
       "    <tr>\n",
       "      <th>2</th>\n",
       "      <td>117</td>\n",
       "      <td>1</td>\n",
       "      <td>open</td>\n",
       "      <td>san-francisco-ca-machka-restaurants-corp-barte...</td>\n",
       "      <td>Bartender @ Machka Restaurants Corp.</td>\n",
       "      <td>Bartender</td>\n",
       "      <td>Machka Restaurants Corp.</td>\n",
       "      <td>San Francisco</td>\n",
       "      <td>California</td>\n",
       "      <td>CA</td>\n",
       "      <td>...</td>\n",
       "      <td>Food and Beverages</td>\n",
       "      <td>We are a popular Mediterranean wine bar and re...</td>\n",
       "      <td>NaN</td>\n",
       "      <td>11.0</td>\n",
       "      <td>NaN</td>\n",
       "      <td>NaN</td>\n",
       "      <td>Part-Time</td>\n",
       "      <td>NaN</td>\n",
       "      <td>2013-07-16 09:34:10 UTC</td>\n",
       "      <td>2014-08-16 15:35:37 UTC</td>\n",
       "    </tr>\n",
       "  </tbody>\n",
       "</table>\n",
       "<p>3 rows × 23 columns</p>\n",
       "</div>"
      ],
      "text/plain": [
       "   Job.ID  Provider Status                                               Slug  \\\n",
       "0     111         1   open                    palo-alto-ca-tacolicious-server   \n",
       "1     113         1   open    san-francisco-ca-claude-lane-kitchen-staff-chef   \n",
       "2     117         1   open  san-francisco-ca-machka-restaurants-corp-barte...   \n",
       "\n",
       "                                  Title            Position  \\\n",
       "0                  Server @ Tacolicious              Server   \n",
       "1      Kitchen Staff/Chef @ Claude Lane  Kitchen Staff/Chef   \n",
       "2  Bartender @ Machka Restaurants Corp.           Bartender   \n",
       "\n",
       "                    Company           City  State.Name State.Code  ...  \\\n",
       "0               Tacolicious      Palo Alto  California         CA  ...   \n",
       "1               Claude Lane  San Francisco  California         CA  ...   \n",
       "2  Machka Restaurants Corp.  San Francisco  California         CA  ...   \n",
       "\n",
       "             Industry                                    Job.Description  \\\n",
       "0  Food and Beverages  Tacolicious' first Palo Alto store just opened...   \n",
       "1  Food and Beverages   \\r\\n\\r\\nNew French Brasserie in S.F. Financia...   \n",
       "2  Food and Beverages  We are a popular Mediterranean wine bar and re...   \n",
       "\n",
       "   Requirements Salary Listing.Start  Listing.End  Employment.Type  \\\n",
       "0           NaN    8.0           NaN          NaN        Part-Time   \n",
       "1           NaN    0.0           NaN          NaN        Part-Time   \n",
       "2           NaN   11.0           NaN          NaN        Part-Time   \n",
       "\n",
       "  Education.Required               Created.At               Updated.At  \n",
       "0                NaN  2013-03-12 02:08:28 UTC  2014-08-16 15:35:36 UTC  \n",
       "1                NaN  2013-04-12 08:36:36 UTC  2014-08-16 15:35:36 UTC  \n",
       "2                NaN  2013-07-16 09:34:10 UTC  2014-08-16 15:35:37 UTC  \n",
       "\n",
       "[3 rows x 23 columns]"
      ]
     },
     "execution_count": 3,
     "metadata": {},
     "output_type": "execute_result"
    }
   ],
   "source": [
    "df.head(3)"
   ]
  },
  {
   "cell_type": "code",
   "execution_count": 4,
   "id": "a45ad9f9",
   "metadata": {},
   "outputs": [
    {
     "name": "stdout",
     "output_type": "stream",
     "text": [
      "84090\n",
      "84090\n"
     ]
    }
   ],
   "source": [
    "print(len(df))\n",
    "df = df[['Status', 'Title', 'Position', 'Company', 'Job.Description']]\n",
    "print(len(df))"
   ]
  },
  {
   "cell_type": "code",
   "execution_count": 5,
   "id": "b8458fac",
   "metadata": {},
   "outputs": [
    {
     "data": {
      "text/plain": [
       "'Receptionist @ Mind of Beauty Day Spa'"
      ]
     },
     "execution_count": 5,
     "metadata": {},
     "output_type": "execute_result"
    }
   ],
   "source": [
    "df['Title'][5]"
   ]
  },
  {
   "cell_type": "code",
   "execution_count": 6,
   "id": "ee54586c",
   "metadata": {},
   "outputs": [
    {
     "data": {
      "text/plain": [
       "'We are a group of professional massage therapists. We are currently looking for a receptionist who can speak both Mandarin and English fluently. Please apply if you are interested! \\r\\n\\r\\n● Act as a receptionist\\r\\n● Support the staff when needed \\r\\n'"
      ]
     },
     "execution_count": 6,
     "metadata": {},
     "output_type": "execute_result"
    }
   ],
   "source": [
    "df['Job.Description'][5]"
   ]
  },
  {
   "cell_type": "code",
   "execution_count": 7,
   "id": "eb395c9e",
   "metadata": {},
   "outputs": [
    {
     "data": {
      "text/plain": [
       "Status             0\n",
       "Title              0\n",
       "Position           0\n",
       "Company            0\n",
       "Job.Description    0\n",
       "dtype: int64"
      ]
     },
     "execution_count": 7,
     "metadata": {},
     "output_type": "execute_result"
    }
   ],
   "source": [
    "df.isnull().sum()\n",
    "df.fillna('',inplace=True)\n",
    "df.isnull().sum()"
   ]
  },
  {
   "cell_type": "code",
   "execution_count": 8,
   "id": "6d40eaf8",
   "metadata": {},
   "outputs": [],
   "source": [
    "df = df.sample(n=1000,random_state=42)"
   ]
  },
  {
   "cell_type": "code",
   "execution_count": 9,
   "id": "423be37a",
   "metadata": {},
   "outputs": [
    {
     "data": {
      "text/plain": [
       "(1000, 5)"
      ]
     },
     "execution_count": 9,
     "metadata": {},
     "output_type": "execute_result"
    }
   ],
   "source": [
    "df.shape"
   ]
  },
  {
   "cell_type": "markdown",
   "id": "fd6b7928",
   "metadata": {},
   "source": [
    "# Data Cleaning & Pre-processing"
   ]
  },
  {
   "cell_type": "code",
   "execution_count": 10,
   "id": "dcd3dcc7",
   "metadata": {},
   "outputs": [],
   "source": [
    "import nltk\n",
    "from nltk.stem.porter import PorterStemmer\n",
    "from nltk.corpus import stopwords\n",
    "import re\n",
    "#nltk.download('punkt')\n",
    "#nltk.download('stopwords')"
   ]
  },
  {
   "cell_type": "code",
   "execution_count": 11,
   "id": "e296132a",
   "metadata": {},
   "outputs": [],
   "source": [
    "ps = PorterStemmer()"
   ]
  },
  {
   "cell_type": "code",
   "execution_count": 12,
   "id": "e2bf6983",
   "metadata": {},
   "outputs": [],
   "source": [
    "def cleaning(input):\n",
    "    cleaned = re.sub(r'[^a-zA-Z0-9\\s]','',input)\n",
    "    tokens = nltk.word_tokenize(cleaned.lower())\n",
    "    stemming = [ps.stem(word) for word in tokens if word not in stopwords.words('english')]\n",
    "    \n",
    "    return \" \".join(stemming)"
   ]
  },
  {
   "cell_type": "code",
   "execution_count": 13,
   "id": "e84c8c16",
   "metadata": {},
   "outputs": [],
   "source": [
    "cleaned = cleaning(\"lunged where is the maddening recommendation at? \\n\\r &%$@%& @grooving\")"
   ]
  },
  {
   "cell_type": "code",
   "execution_count": 14,
   "id": "f8734346",
   "metadata": {},
   "outputs": [
    {
     "name": "stdout",
     "output_type": "stream",
     "text": [
      "lung madden recommend groov\n"
     ]
    }
   ],
   "source": [
    "print(cleaned)"
   ]
  },
  {
   "cell_type": "code",
   "execution_count": 15,
   "id": "66e2e0af",
   "metadata": {},
   "outputs": [],
   "source": [
    "df['Title'] = df['Title'].astype(str).apply(lambda x:cleaning(x))\n",
    "df['Job.Description'] = df['Job.Description'].astype(str).apply(lambda x:cleaning(x))\n",
    "df['Position'] = df['Position'].astype(str).apply(lambda x: cleaning(x))"
   ]
  },
  {
   "cell_type": "code",
   "execution_count": 16,
   "id": "75280eca",
   "metadata": {},
   "outputs": [],
   "source": [
    "df['Details'] = df['Job.Description']+\" \"+df['Title']+df['Position']"
   ]
  },
  {
   "cell_type": "code",
   "execution_count": 17,
   "id": "ed064a8a",
   "metadata": {},
   "outputs": [
    {
     "data": {
      "text/html": [
       "<div>\n",
       "<style scoped>\n",
       "    .dataframe tbody tr th:only-of-type {\n",
       "        vertical-align: middle;\n",
       "    }\n",
       "\n",
       "    .dataframe tbody tr th {\n",
       "        vertical-align: top;\n",
       "    }\n",
       "\n",
       "    .dataframe thead th {\n",
       "        text-align: right;\n",
       "    }\n",
       "</style>\n",
       "<table border=\"1\" class=\"dataframe\">\n",
       "  <thead>\n",
       "    <tr style=\"text-align: right;\">\n",
       "      <th></th>\n",
       "      <th>Status</th>\n",
       "      <th>Title</th>\n",
       "      <th>Position</th>\n",
       "      <th>Company</th>\n",
       "      <th>Job.Description</th>\n",
       "      <th>Details</th>\n",
       "    </tr>\n",
       "  </thead>\n",
       "  <tbody>\n",
       "    <tr>\n",
       "      <th>64119</th>\n",
       "      <td>open</td>\n",
       "      <td>site director knowledg univers</td>\n",
       "      <td>site director</td>\n",
       "      <td>Knowledge Universe</td>\n",
       "      <td>job summari knowledg univers ku site director ...</td>\n",
       "      <td>job summari knowledg univers ku site director ...</td>\n",
       "    </tr>\n",
       "    <tr>\n",
       "      <th>35827</th>\n",
       "      <td>open</td>\n",
       "      <td>administr assist officeteam</td>\n",
       "      <td>administr assist</td>\n",
       "      <td>OfficeTeam</td>\n",
       "      <td>ref id 03110118480classif secretaryadmin asstc...</td>\n",
       "      <td>ref id 03110118480classif secretaryadmin asstc...</td>\n",
       "    </tr>\n",
       "    <tr>\n",
       "      <th>72100</th>\n",
       "      <td>open</td>\n",
       "      <td>account manag chi payment system</td>\n",
       "      <td>account manag</td>\n",
       "      <td>CHI Payment Systems</td>\n",
       "      <td>yoursquor energet motiv hardwork look prosper ...</td>\n",
       "      <td>yoursquor energet motiv hardwork look prosper ...</td>\n",
       "    </tr>\n",
       "    <tr>\n",
       "      <th>46355</th>\n",
       "      <td>open</td>\n",
       "      <td>outsid wholesal sale rep parttim river front c...</td>\n",
       "      <td>outsid wholesal sale rep parttim</td>\n",
       "      <td>River Front Chrysler Jeep Dodge</td>\n",
       "      <td>outsid wholesal sale rep job respons sale repr...</td>\n",
       "      <td>outsid wholesal sale rep job respons sale repr...</td>\n",
       "    </tr>\n",
       "    <tr>\n",
       "      <th>34166</th>\n",
       "      <td>open</td>\n",
       "      <td>custom servic rep help peopl hear loss captioncal</td>\n",
       "      <td>custom servic rep help peopl hear loss</td>\n",
       "      <td>CaptionCall</td>\n",
       "      <td>captioncal commun assist imagin life without t...</td>\n",
       "      <td>captioncal commun assist imagin life without t...</td>\n",
       "    </tr>\n",
       "    <tr>\n",
       "      <th>43584</th>\n",
       "      <td>open</td>\n",
       "      <td>bookkeep accountemp</td>\n",
       "      <td>bookkeep</td>\n",
       "      <td>Accountemps</td>\n",
       "      <td>ref id00900140759classificationbookkeepercompe...</td>\n",
       "      <td>ref id00900140759classificationbookkeepercompe...</td>\n",
       "    </tr>\n",
       "    <tr>\n",
       "      <th>78169</th>\n",
       "      <td>open</td>\n",
       "      <td>nuclear medicin tech prn hcaeast florida</td>\n",
       "      <td>nuclear medicin tech prn</td>\n",
       "      <td>HCA-East Florida</td>\n",
       "      <td>job descriptionnuclear medicin tech prnjob num...</td>\n",
       "      <td>job descriptionnuclear medicin tech prnjob num...</td>\n",
       "    </tr>\n",
       "    <tr>\n",
       "      <th>2211</th>\n",
       "      <td>open</td>\n",
       "      <td>construct project admin need asap officeteam</td>\n",
       "      <td>construct project admin need asap</td>\n",
       "      <td>OfficeTeam</td>\n",
       "      <td>ref id 001609715006classif officeadministr sup...</td>\n",
       "      <td>ref id 001609715006classif officeadministr sup...</td>\n",
       "    </tr>\n",
       "    <tr>\n",
       "      <th>6936</th>\n",
       "      <td>open</td>\n",
       "      <td>account clerk accountemp</td>\n",
       "      <td>account clerk</td>\n",
       "      <td>Accountemps</td>\n",
       "      <td>ref id03410110048classificationaccount clerkco...</td>\n",
       "      <td>ref id03410110048classificationaccount clerkco...</td>\n",
       "    </tr>\n",
       "    <tr>\n",
       "      <th>7478</th>\n",
       "      <td>open</td>\n",
       "      <td>cashier murphi usa</td>\n",
       "      <td>cashier</td>\n",
       "      <td>Murphy USA</td>\n",
       "      <td>job jobwhen know make differ live around youwh...</td>\n",
       "      <td>job jobwhen know make differ live around youwh...</td>\n",
       "    </tr>\n",
       "  </tbody>\n",
       "</table>\n",
       "</div>"
      ],
      "text/plain": [
       "      Status                                              Title  \\\n",
       "64119   open                     site director knowledg univers   \n",
       "35827   open                        administr assist officeteam   \n",
       "72100   open                   account manag chi payment system   \n",
       "46355   open  outsid wholesal sale rep parttim river front c...   \n",
       "34166   open  custom servic rep help peopl hear loss captioncal   \n",
       "43584   open                                bookkeep accountemp   \n",
       "78169   open           nuclear medicin tech prn hcaeast florida   \n",
       "2211    open       construct project admin need asap officeteam   \n",
       "6936    open                           account clerk accountemp   \n",
       "7478    open                                 cashier murphi usa   \n",
       "\n",
       "                                     Position  \\\n",
       "64119                           site director   \n",
       "35827                        administr assist   \n",
       "72100                           account manag   \n",
       "46355        outsid wholesal sale rep parttim   \n",
       "34166  custom servic rep help peopl hear loss   \n",
       "43584                                bookkeep   \n",
       "78169                nuclear medicin tech prn   \n",
       "2211        construct project admin need asap   \n",
       "6936                            account clerk   \n",
       "7478                                  cashier   \n",
       "\n",
       "                               Company  \\\n",
       "64119               Knowledge Universe   \n",
       "35827                       OfficeTeam   \n",
       "72100              CHI Payment Systems   \n",
       "46355  River Front Chrysler Jeep Dodge   \n",
       "34166                      CaptionCall   \n",
       "43584                      Accountemps   \n",
       "78169                 HCA-East Florida   \n",
       "2211                        OfficeTeam   \n",
       "6936                       Accountemps   \n",
       "7478                        Murphy USA   \n",
       "\n",
       "                                         Job.Description  \\\n",
       "64119  job summari knowledg univers ku site director ...   \n",
       "35827  ref id 03110118480classif secretaryadmin asstc...   \n",
       "72100  yoursquor energet motiv hardwork look prosper ...   \n",
       "46355  outsid wholesal sale rep job respons sale repr...   \n",
       "34166  captioncal commun assist imagin life without t...   \n",
       "43584  ref id00900140759classificationbookkeepercompe...   \n",
       "78169  job descriptionnuclear medicin tech prnjob num...   \n",
       "2211   ref id 001609715006classif officeadministr sup...   \n",
       "6936   ref id03410110048classificationaccount clerkco...   \n",
       "7478   job jobwhen know make differ live around youwh...   \n",
       "\n",
       "                                                 Details  \n",
       "64119  job summari knowledg univers ku site director ...  \n",
       "35827  ref id 03110118480classif secretaryadmin asstc...  \n",
       "72100  yoursquor energet motiv hardwork look prosper ...  \n",
       "46355  outsid wholesal sale rep job respons sale repr...  \n",
       "34166  captioncal commun assist imagin life without t...  \n",
       "43584  ref id00900140759classificationbookkeepercompe...  \n",
       "78169  job descriptionnuclear medicin tech prnjob num...  \n",
       "2211   ref id 001609715006classif officeadministr sup...  \n",
       "6936   ref id03410110048classificationaccount clerkco...  \n",
       "7478   job jobwhen know make differ live around youwh...  "
      ]
     },
     "execution_count": 17,
     "metadata": {},
     "output_type": "execute_result"
    }
   ],
   "source": [
    "df.head(10)"
   ]
  },
  {
   "cell_type": "code",
   "execution_count": 18,
   "id": "2378d66b",
   "metadata": {},
   "outputs": [
    {
     "data": {
      "text/plain": [
       "'job jobwhen know make differ live around youwhen go work everi day look forward day ahead youwhen decis make job realli matter serv cashier whether goal begin fantast fulltim career great parttim job talent valu respect murphi usa success cashier need energi excel work ethic great attitud smile face compani deliv legendari custom servic murphi usa associ known provid respons includeprovid prompt effici courteou custom experiencerespond resolv custom request concernsassist custom purchas fuel transactionsoper cash registerrestock merchandiseperform job relat duti assigneda job job career murphi usa murphi understand career much paycheck benefit that best provid support enjoy atmospher possibl employe reason murphi usa great career choiceenjoy workmurphi usa offer fast pace environ bright talent individu will work hard valu make differ flexibl schedulemurphi usa help schedul work around busi life advanc opportunitiesmurphi usa oper 1000 locat 20 state ad new locat everi year growth provid career advanc opportun top perform team member earn degreeal employe averag 20 hour per week elig educ assist offer murphi usa cashier murphi usacashier'"
      ]
     },
     "execution_count": 18,
     "metadata": {},
     "output_type": "execute_result"
    }
   ],
   "source": [
    "df['Details'][7478]"
   ]
  },
  {
   "cell_type": "markdown",
   "id": "adfa9195",
   "metadata": {},
   "source": [
    "# Model Training"
   ]
  },
  {
   "cell_type": "code",
   "execution_count": 19,
   "id": "78928576",
   "metadata": {},
   "outputs": [],
   "source": [
    "from sklearn.feature_extraction.text import TfidfVectorizer\n",
    "from sklearn.metrics.pairwise import cosine_similarity"
   ]
  },
  {
   "cell_type": "code",
   "execution_count": 20,
   "id": "7b122619",
   "metadata": {},
   "outputs": [],
   "source": [
    "tfif = TfidfVectorizer(stop_words='english')\n",
    "matrix = tfif.fit_transform(df['Details'])\n",
    "similarity = cosine_similarity(matrix)"
   ]
  },
  {
   "cell_type": "code",
   "execution_count": 21,
   "id": "79fbface",
   "metadata": {},
   "outputs": [
    {
     "data": {
      "text/plain": [
       "array([[1.        , 0.04322045, 0.02131549, ..., 0.05101897, 0.02496253,\n",
       "        0.08044478],\n",
       "       [0.04322045, 1.        , 0.02936862, ..., 0.03617188, 0.00565445,\n",
       "        0.02613043],\n",
       "       [0.02131549, 0.02936862, 1.        , ..., 0.05498817, 0.02959363,\n",
       "        0.04218737],\n",
       "       ...,\n",
       "       [0.05101897, 0.03617188, 0.05498817, ..., 1.        , 0.05915732,\n",
       "        0.11128466],\n",
       "       [0.02496253, 0.00565445, 0.02959363, ..., 0.05915732, 1.        ,\n",
       "        0.38569354],\n",
       "       [0.08044478, 0.02613043, 0.04218737, ..., 0.11128466, 0.38569354,\n",
       "        1.        ]])"
      ]
     },
     "execution_count": 21,
     "metadata": {},
     "output_type": "execute_result"
    }
   ],
   "source": [
    "similarity"
   ]
  },
  {
   "cell_type": "code",
   "execution_count": 22,
   "id": "deea1ec8",
   "metadata": {},
   "outputs": [
    {
     "data": {
      "text/plain": [
       "[(276, 0.9733772868873092),\n",
       " (730, 0.5181424118134745),\n",
       " (81, 0.49306292063609425),\n",
       " (917, 0.49306292063609425),\n",
       " (252, 0.2585811153172217),\n",
       " (128, 0.24712958824951992),\n",
       " (360, 0.23664048105861918),\n",
       " (825, 0.21870641716425473),\n",
       " (629, 0.2088881569389071),\n",
       " (38, 0.18257068622788095),\n",
       " (245, 0.1796380318454525),\n",
       " (114, 0.17263108553231282),\n",
       " (254, 0.16811344897738498),\n",
       " (298, 0.1446572732370542),\n",
       " (59, 0.14241842988596462),\n",
       " (940, 0.13972634715716156),\n",
       " (195, 0.1368714545586078),\n",
       " (284, 0.13625519998756502),\n",
       " (965, 0.13588092414113367)]"
      ]
     },
     "execution_count": 22,
     "metadata": {},
     "output_type": "execute_result"
    }
   ],
   "source": [
    "sorted(list(enumerate(similarity[0])), key=lambda x: x[1], reverse=True)[1:20]"
   ]
  },
  {
   "cell_type": "markdown",
   "id": "54f72418",
   "metadata": {},
   "source": [
    "# Backend Job Recommendation System"
   ]
  },
  {
   "cell_type": "code",
   "execution_count": 23,
   "id": "6e3eb1fb",
   "metadata": {},
   "outputs": [],
   "source": [
    "def recommendation(title):\n",
    "    placeIndex = df[df['Title'] == title].index[0]\n",
    "    placeIndex = df.index.get_loc(placeIndex)\n",
    "    distances = sorted(list(enumerate(similarity[placeIndex])),key=lambda x:x[1], reverse=False)[1:20]\n",
    "    \n",
    "    jobs = []\n",
    "    for i in distances:\n",
    "        jobs.append(df.iloc[i[0]].Title)\n",
    "    return jobs"
   ]
  },
  {
   "cell_type": "code",
   "execution_count": 24,
   "id": "ac44cbac",
   "metadata": {},
   "outputs": [
    {
     "data": {
      "text/plain": [
       "['live home health aid hha immedi need shift 7am sat 7am monday home hospit medic personnel inc',\n",
       " 'inventori analyst accountemp',\n",
       " 'dietitian',\n",
       " 'housekeep laundri assist evangel lutheran good samaritan societi',\n",
       " 'physician autism center part time provid health servic',\n",
       " 'shoe repair carl shoe',\n",
       " 'receptionist omnicar',\n",
       " 'surgic scrub tech',\n",
       " 'account clerk accountemp',\n",
       " 'medic offic manag psychiatr offic',\n",
       " 'physic therapi assist parttim american merci home care',\n",
       " 'custom servic represnt officeteam',\n",
       " 'mech engin intern hargrov engin constructor',\n",
       " 'physic therapi technician agil health',\n",
       " 'vascular technician swedish health',\n",
       " 'commerci collect specialist accountemp',\n",
       " 'account payabl specialist accountemp',\n",
       " 'part time sale green drop lawn care',\n",
       " 'gener offic clerk officeteam']"
      ]
     },
     "execution_count": 24,
     "metadata": {},
     "output_type": "execute_result"
    }
   ],
   "source": [
    "recommendation(\"site director knowledg univers\")"
   ]
  },
  {
   "cell_type": "code",
   "execution_count": 25,
   "id": "7452adb5",
   "metadata": {},
   "outputs": [],
   "source": [
    "import pickle\n",
    "pickle.dump(df, open(\"df.pkl\", 'wb'))\n",
    "pickle.dump(similarity, open('similarity.pkl', 'wb'))"
   ]
  }
 ],
 "metadata": {
  "kernelspec": {
   "display_name": "Python 3 (ipykernel)",
   "language": "python",
   "name": "python3"
  },
  "language_info": {
   "codemirror_mode": {
    "name": "ipython",
    "version": 3
   },
   "file_extension": ".py",
   "mimetype": "text/x-python",
   "name": "python",
   "nbconvert_exporter": "python",
   "pygments_lexer": "ipython3",
   "version": "3.11.4"
  }
 },
 "nbformat": 4,
 "nbformat_minor": 5
}
