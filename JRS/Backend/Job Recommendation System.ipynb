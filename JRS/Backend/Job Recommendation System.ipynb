{
 "cells": [
  {
   "cell_type": "markdown",
   "id": "312fd1c0",
   "metadata": {},
   "source": [
    "# Data Collection & Exploratory"
   ]
  },
  {
   "cell_type": "code",
   "execution_count": 1,
   "id": "ed2b518e",
   "metadata": {},
   "outputs": [],
   "source": [
    "import numpy as np\n",
    "import pandas as pd"
   ]
  },
  {
   "cell_type": "code",
   "execution_count": 2,
   "id": "93b15ef5",
   "metadata": {},
   "outputs": [],
   "source": [
    "df = pd.read_csv('Combined_Jobs_Final.csv')"
   ]
  },
  {
   "cell_type": "code",
   "execution_count": 3,
   "id": "786df900",
   "metadata": {},
   "outputs": [
    {
     "data": {
      "text/html": [
       "<div>\n",
       "<style scoped>\n",
       "    .dataframe tbody tr th:only-of-type {\n",
       "        vertical-align: middle;\n",
       "    }\n",
       "\n",
       "    .dataframe tbody tr th {\n",
       "        vertical-align: top;\n",
       "    }\n",
       "\n",
       "    .dataframe thead th {\n",
       "        text-align: right;\n",
       "    }\n",
       "</style>\n",
       "<table border=\"1\" class=\"dataframe\">\n",
       "  <thead>\n",
       "    <tr style=\"text-align: right;\">\n",
       "      <th></th>\n",
       "      <th>Job.ID</th>\n",
       "      <th>Provider</th>\n",
       "      <th>Status</th>\n",
       "      <th>Slug</th>\n",
       "      <th>Title</th>\n",
       "      <th>Position</th>\n",
       "      <th>Company</th>\n",
       "      <th>City</th>\n",
       "      <th>State.Name</th>\n",
       "      <th>State.Code</th>\n",
       "      <th>...</th>\n",
       "      <th>Industry</th>\n",
       "      <th>Job.Description</th>\n",
       "      <th>Requirements</th>\n",
       "      <th>Salary</th>\n",
       "      <th>Listing.Start</th>\n",
       "      <th>Listing.End</th>\n",
       "      <th>Employment.Type</th>\n",
       "      <th>Education.Required</th>\n",
       "      <th>Created.At</th>\n",
       "      <th>Updated.At</th>\n",
       "    </tr>\n",
       "  </thead>\n",
       "  <tbody>\n",
       "    <tr>\n",
       "      <th>0</th>\n",
       "      <td>111</td>\n",
       "      <td>1</td>\n",
       "      <td>open</td>\n",
       "      <td>palo-alto-ca-tacolicious-server</td>\n",
       "      <td>Server @ Tacolicious</td>\n",
       "      <td>Server</td>\n",
       "      <td>Tacolicious</td>\n",
       "      <td>Palo Alto</td>\n",
       "      <td>California</td>\n",
       "      <td>CA</td>\n",
       "      <td>...</td>\n",
       "      <td>Food and Beverages</td>\n",
       "      <td>Tacolicious' first Palo Alto store just opened...</td>\n",
       "      <td>NaN</td>\n",
       "      <td>8.0</td>\n",
       "      <td>NaN</td>\n",
       "      <td>NaN</td>\n",
       "      <td>Part-Time</td>\n",
       "      <td>NaN</td>\n",
       "      <td>2013-03-12 02:08:28 UTC</td>\n",
       "      <td>2014-08-16 15:35:36 UTC</td>\n",
       "    </tr>\n",
       "    <tr>\n",
       "      <th>1</th>\n",
       "      <td>113</td>\n",
       "      <td>1</td>\n",
       "      <td>open</td>\n",
       "      <td>san-francisco-ca-claude-lane-kitchen-staff-chef</td>\n",
       "      <td>Kitchen Staff/Chef @ Claude Lane</td>\n",
       "      <td>Kitchen Staff/Chef</td>\n",
       "      <td>Claude Lane</td>\n",
       "      <td>San Francisco</td>\n",
       "      <td>California</td>\n",
       "      <td>CA</td>\n",
       "      <td>...</td>\n",
       "      <td>Food and Beverages</td>\n",
       "      <td>\\r\\n\\r\\nNew French Brasserie in S.F. Financia...</td>\n",
       "      <td>NaN</td>\n",
       "      <td>0.0</td>\n",
       "      <td>NaN</td>\n",
       "      <td>NaN</td>\n",
       "      <td>Part-Time</td>\n",
       "      <td>NaN</td>\n",
       "      <td>2013-04-12 08:36:36 UTC</td>\n",
       "      <td>2014-08-16 15:35:36 UTC</td>\n",
       "    </tr>\n",
       "    <tr>\n",
       "      <th>2</th>\n",
       "      <td>117</td>\n",
       "      <td>1</td>\n",
       "      <td>open</td>\n",
       "      <td>san-francisco-ca-machka-restaurants-corp-barte...</td>\n",
       "      <td>Bartender @ Machka Restaurants Corp.</td>\n",
       "      <td>Bartender</td>\n",
       "      <td>Machka Restaurants Corp.</td>\n",
       "      <td>San Francisco</td>\n",
       "      <td>California</td>\n",
       "      <td>CA</td>\n",
       "      <td>...</td>\n",
       "      <td>Food and Beverages</td>\n",
       "      <td>We are a popular Mediterranean wine bar and re...</td>\n",
       "      <td>NaN</td>\n",
       "      <td>11.0</td>\n",
       "      <td>NaN</td>\n",
       "      <td>NaN</td>\n",
       "      <td>Part-Time</td>\n",
       "      <td>NaN</td>\n",
       "      <td>2013-07-16 09:34:10 UTC</td>\n",
       "      <td>2014-08-16 15:35:37 UTC</td>\n",
       "    </tr>\n",
       "  </tbody>\n",
       "</table>\n",
       "<p>3 rows × 23 columns</p>\n",
       "</div>"
      ],
      "text/plain": [
       "   Job.ID  Provider Status                                               Slug  \\\n",
       "0     111         1   open                    palo-alto-ca-tacolicious-server   \n",
       "1     113         1   open    san-francisco-ca-claude-lane-kitchen-staff-chef   \n",
       "2     117         1   open  san-francisco-ca-machka-restaurants-corp-barte...   \n",
       "\n",
       "                                  Title            Position  \\\n",
       "0                  Server @ Tacolicious              Server   \n",
       "1      Kitchen Staff/Chef @ Claude Lane  Kitchen Staff/Chef   \n",
       "2  Bartender @ Machka Restaurants Corp.           Bartender   \n",
       "\n",
       "                    Company           City  State.Name State.Code  ...  \\\n",
       "0               Tacolicious      Palo Alto  California         CA  ...   \n",
       "1               Claude Lane  San Francisco  California         CA  ...   \n",
       "2  Machka Restaurants Corp.  San Francisco  California         CA  ...   \n",
       "\n",
       "             Industry                                    Job.Description  \\\n",
       "0  Food and Beverages  Tacolicious' first Palo Alto store just opened...   \n",
       "1  Food and Beverages   \\r\\n\\r\\nNew French Brasserie in S.F. Financia...   \n",
       "2  Food and Beverages  We are a popular Mediterranean wine bar and re...   \n",
       "\n",
       "   Requirements Salary Listing.Start  Listing.End  Employment.Type  \\\n",
       "0           NaN    8.0           NaN          NaN        Part-Time   \n",
       "1           NaN    0.0           NaN          NaN        Part-Time   \n",
       "2           NaN   11.0           NaN          NaN        Part-Time   \n",
       "\n",
       "  Education.Required               Created.At               Updated.At  \n",
       "0                NaN  2013-03-12 02:08:28 UTC  2014-08-16 15:35:36 UTC  \n",
       "1                NaN  2013-04-12 08:36:36 UTC  2014-08-16 15:35:36 UTC  \n",
       "2                NaN  2013-07-16 09:34:10 UTC  2014-08-16 15:35:37 UTC  \n",
       "\n",
       "[3 rows x 23 columns]"
      ]
     },
     "execution_count": 3,
     "metadata": {},
     "output_type": "execute_result"
    }
   ],
   "source": [
    "df.head(3)"
   ]
  },
  {
   "cell_type": "code",
   "execution_count": 4,
   "id": "a45ad9f9",
   "metadata": {},
   "outputs": [
    {
     "name": "stdout",
     "output_type": "stream",
     "text": [
      "84090\n",
      "84090\n"
     ]
    }
   ],
   "source": [
    "print(len(df))\n",
    "df = df[['Status', 'Title', 'Position', 'Company', 'Job.Description']]\n",
    "print(len(df))"
   ]
  },
  {
   "cell_type": "code",
   "execution_count": 5,
   "id": "b8458fac",
   "metadata": {},
   "outputs": [
    {
     "data": {
      "text/plain": [
       "'Receptionist @ Mind of Beauty Day Spa'"
      ]
     },
     "execution_count": 5,
     "metadata": {},
     "output_type": "execute_result"
    }
   ],
   "source": [
    "df['Title'][5]"
   ]
  },
  {
   "cell_type": "code",
   "execution_count": 6,
   "id": "ee54586c",
   "metadata": {},
   "outputs": [
    {
     "data": {
      "text/plain": [
       "'We are a group of professional massage therapists. We are currently looking for a receptionist who can speak both Mandarin and English fluently. Please apply if you are interested! \\r\\n\\r\\n● Act as a receptionist\\r\\n● Support the staff when needed \\r\\n'"
      ]
     },
     "execution_count": 6,
     "metadata": {},
     "output_type": "execute_result"
    }
   ],
   "source": [
    "df['Job.Description'][5]"
   ]
  },
  {
   "cell_type": "code",
   "execution_count": 7,
   "id": "eb395c9e",
   "metadata": {},
   "outputs": [
    {
     "data": {
      "text/plain": [
       "Status             0\n",
       "Title              0\n",
       "Position           0\n",
       "Company            0\n",
       "Job.Description    0\n",
       "dtype: int64"
      ]
     },
     "execution_count": 7,
     "metadata": {},
     "output_type": "execute_result"
    }
   ],
   "source": [
    "df.isnull().sum()\n",
    "df.fillna('',inplace=True)\n",
    "df.isnull().sum()"
   ]
  },
  {
   "cell_type": "code",
   "execution_count": 8,
   "id": "6d40eaf8",
   "metadata": {},
   "outputs": [],
   "source": [
    "df = df.sample(n=1000,random_state=42)"
   ]
  },
  {
   "cell_type": "code",
   "execution_count": 9,
   "id": "423be37a",
   "metadata": {},
   "outputs": [
    {
     "data": {
      "text/plain": [
       "(1000, 5)"
      ]
     },
     "execution_count": 9,
     "metadata": {},
     "output_type": "execute_result"
    }
   ],
   "source": [
    "df.shape"
   ]
  },
  {
   "cell_type": "markdown",
   "id": "fd6b7928",
   "metadata": {},
   "source": [
    "# Data Cleaning & Pre-processing"
   ]
  },
  {
   "cell_type": "code",
   "execution_count": 10,
   "id": "dcd3dcc7",
   "metadata": {},
   "outputs": [],
   "source": [
    "import nltk\n",
    "from nltk.stem.porter import PorterStemmer\n",
    "from nltk.corpus import stopwords\n",
    "import re\n",
    "# nltk.download('punkt')\n",
    "# nltk.download('stopwords')"
   ]
  },
  {
   "cell_type": "code",
   "execution_count": 11,
   "id": "e296132a",
   "metadata": {},
   "outputs": [],
   "source": [
    "ps = PorterStemmer()"
   ]
  },
  {
   "cell_type": "code",
   "execution_count": 12,
   "id": "e2bf6983",
   "metadata": {},
   "outputs": [],
   "source": [
    "def cleaning(input):\n",
    "    cleaned = re.sub(r'[^a-zA-Z0-9\\s]','',input)\n",
    "    tokens = nltk.word_tokenize(cleaned.lower())\n",
    "    stemming = [ps.stem(word) for word in tokens if word not in stopwords.words('english')]\n",
    "    \n",
    "    return \" \".join(stemming)"
   ]
  },
  {
   "cell_type": "code",
   "execution_count": 13,
   "id": "e84c8c16",
   "metadata": {},
   "outputs": [],
   "source": [
    "cleaned = cleaning(\"lunged where is the maddening recommendation at? \\n\\r &%$@%& @grooving\")"
   ]
  },
  {
   "cell_type": "code",
   "execution_count": 14,
   "id": "f8734346",
   "metadata": {},
   "outputs": [
    {
     "name": "stdout",
     "output_type": "stream",
     "text": [
      "lung madden recommend groov\n"
     ]
    }
   ],
   "source": [
    "print(cleaned)"
   ]
  },
  {
   "cell_type": "code",
   "execution_count": 15,
   "id": "66e2e0af",
   "metadata": {},
   "outputs": [],
   "source": [
    "# ETA 30 seconds\n",
    "df['Title'] = df['Title'].astype(str).apply(lambda x:cleaning(x))\n",
    "df['Job.Description'] = df['Job.Description'].astype(str).apply(lambda x:cleaning(x))\n",
    "df['Position'] = df['Position'].astype(str).apply(lambda x: cleaning(x))"
   ]
  },
  {
   "cell_type": "code",
   "execution_count": 16,
   "id": "75280eca",
   "metadata": {},
   "outputs": [],
   "source": [
    "df['Details'] = df['Job.Description']+\" \"+df['Title']+df['Position']"
   ]
  },
  {
   "cell_type": "code",
   "execution_count": 17,
   "id": "ed064a8a",
   "metadata": {},
   "outputs": [
    {
     "data": {
      "text/html": [
       "<div>\n",
       "<style scoped>\n",
       "    .dataframe tbody tr th:only-of-type {\n",
       "        vertical-align: middle;\n",
       "    }\n",
       "\n",
       "    .dataframe tbody tr th {\n",
       "        vertical-align: top;\n",
       "    }\n",
       "\n",
       "    .dataframe thead th {\n",
       "        text-align: right;\n",
       "    }\n",
       "</style>\n",
       "<table border=\"1\" class=\"dataframe\">\n",
       "  <thead>\n",
       "    <tr style=\"text-align: right;\">\n",
       "      <th></th>\n",
       "      <th>Status</th>\n",
       "      <th>Title</th>\n",
       "      <th>Position</th>\n",
       "      <th>Company</th>\n",
       "      <th>Job.Description</th>\n",
       "      <th>Details</th>\n",
       "    </tr>\n",
       "  </thead>\n",
       "  <tbody>\n",
       "    <tr>\n",
       "      <th>64119</th>\n",
       "      <td>open</td>\n",
       "      <td>site director knowledg univers</td>\n",
       "      <td>site director</td>\n",
       "      <td>Knowledge Universe</td>\n",
       "      <td>job summari knowledg univers ku site director ...</td>\n",
       "      <td>job summari knowledg univers ku site director ...</td>\n",
       "    </tr>\n",
       "    <tr>\n",
       "      <th>35827</th>\n",
       "      <td>open</td>\n",
       "      <td>administr assist officeteam</td>\n",
       "      <td>administr assist</td>\n",
       "      <td>OfficeTeam</td>\n",
       "      <td>ref id 03110118480classif secretaryadmin asstc...</td>\n",
       "      <td>ref id 03110118480classif secretaryadmin asstc...</td>\n",
       "    </tr>\n",
       "    <tr>\n",
       "      <th>72100</th>\n",
       "      <td>open</td>\n",
       "      <td>account manag chi payment system</td>\n",
       "      <td>account manag</td>\n",
       "      <td>CHI Payment Systems</td>\n",
       "      <td>yoursquor energet motiv hardwork look prosper ...</td>\n",
       "      <td>yoursquor energet motiv hardwork look prosper ...</td>\n",
       "    </tr>\n",
       "    <tr>\n",
       "      <th>46355</th>\n",
       "      <td>open</td>\n",
       "      <td>outsid wholesal sale rep parttim river front c...</td>\n",
       "      <td>outsid wholesal sale rep parttim</td>\n",
       "      <td>River Front Chrysler Jeep Dodge</td>\n",
       "      <td>outsid wholesal sale rep job respons sale repr...</td>\n",
       "      <td>outsid wholesal sale rep job respons sale repr...</td>\n",
       "    </tr>\n",
       "    <tr>\n",
       "      <th>34166</th>\n",
       "      <td>open</td>\n",
       "      <td>custom servic rep help peopl hear loss captioncal</td>\n",
       "      <td>custom servic rep help peopl hear loss</td>\n",
       "      <td>CaptionCall</td>\n",
       "      <td>captioncal commun assist imagin life without t...</td>\n",
       "      <td>captioncal commun assist imagin life without t...</td>\n",
       "    </tr>\n",
       "    <tr>\n",
       "      <th>43584</th>\n",
       "      <td>open</td>\n",
       "      <td>bookkeep accountemp</td>\n",
       "      <td>bookkeep</td>\n",
       "      <td>Accountemps</td>\n",
       "      <td>ref id00900140759classificationbookkeepercompe...</td>\n",
       "      <td>ref id00900140759classificationbookkeepercompe...</td>\n",
       "    </tr>\n",
       "    <tr>\n",
       "      <th>78169</th>\n",
       "      <td>open</td>\n",
       "      <td>nuclear medicin tech prn hcaeast florida</td>\n",
       "      <td>nuclear medicin tech prn</td>\n",
       "      <td>HCA-East Florida</td>\n",
       "      <td>job descriptionnuclear medicin tech prnjob num...</td>\n",
       "      <td>job descriptionnuclear medicin tech prnjob num...</td>\n",
       "    </tr>\n",
       "    <tr>\n",
       "      <th>2211</th>\n",
       "      <td>open</td>\n",
       "      <td>construct project admin need asap officeteam</td>\n",
       "      <td>construct project admin need asap</td>\n",
       "      <td>OfficeTeam</td>\n",
       "      <td>ref id 001609715006classif officeadministr sup...</td>\n",
       "      <td>ref id 001609715006classif officeadministr sup...</td>\n",
       "    </tr>\n",
       "    <tr>\n",
       "      <th>6936</th>\n",
       "      <td>open</td>\n",
       "      <td>account clerk accountemp</td>\n",
       "      <td>account clerk</td>\n",
       "      <td>Accountemps</td>\n",
       "      <td>ref id03410110048classificationaccount clerkco...</td>\n",
       "      <td>ref id03410110048classificationaccount clerkco...</td>\n",
       "    </tr>\n",
       "    <tr>\n",
       "      <th>7478</th>\n",
       "      <td>open</td>\n",
       "      <td>cashier murphi usa</td>\n",
       "      <td>cashier</td>\n",
       "      <td>Murphy USA</td>\n",
       "      <td>job jobwhen know make differ live around youwh...</td>\n",
       "      <td>job jobwhen know make differ live around youwh...</td>\n",
       "    </tr>\n",
       "  </tbody>\n",
       "</table>\n",
       "</div>"
      ],
      "text/plain": [
       "      Status                                              Title  \\\n",
       "64119   open                     site director knowledg univers   \n",
       "35827   open                        administr assist officeteam   \n",
       "72100   open                   account manag chi payment system   \n",
       "46355   open  outsid wholesal sale rep parttim river front c...   \n",
       "34166   open  custom servic rep help peopl hear loss captioncal   \n",
       "43584   open                                bookkeep accountemp   \n",
       "78169   open           nuclear medicin tech prn hcaeast florida   \n",
       "2211    open       construct project admin need asap officeteam   \n",
       "6936    open                           account clerk accountemp   \n",
       "7478    open                                 cashier murphi usa   \n",
       "\n",
       "                                     Position  \\\n",
       "64119                           site director   \n",
       "35827                        administr assist   \n",
       "72100                           account manag   \n",
       "46355        outsid wholesal sale rep parttim   \n",
       "34166  custom servic rep help peopl hear loss   \n",
       "43584                                bookkeep   \n",
       "78169                nuclear medicin tech prn   \n",
       "2211        construct project admin need asap   \n",
       "6936                            account clerk   \n",
       "7478                                  cashier   \n",
       "\n",
       "                               Company  \\\n",
       "64119               Knowledge Universe   \n",
       "35827                       OfficeTeam   \n",
       "72100              CHI Payment Systems   \n",
       "46355  River Front Chrysler Jeep Dodge   \n",
       "34166                      CaptionCall   \n",
       "43584                      Accountemps   \n",
       "78169                 HCA-East Florida   \n",
       "2211                        OfficeTeam   \n",
       "6936                       Accountemps   \n",
       "7478                        Murphy USA   \n",
       "\n",
       "                                         Job.Description  \\\n",
       "64119  job summari knowledg univers ku site director ...   \n",
       "35827  ref id 03110118480classif secretaryadmin asstc...   \n",
       "72100  yoursquor energet motiv hardwork look prosper ...   \n",
       "46355  outsid wholesal sale rep job respons sale repr...   \n",
       "34166  captioncal commun assist imagin life without t...   \n",
       "43584  ref id00900140759classificationbookkeepercompe...   \n",
       "78169  job descriptionnuclear medicin tech prnjob num...   \n",
       "2211   ref id 001609715006classif officeadministr sup...   \n",
       "6936   ref id03410110048classificationaccount clerkco...   \n",
       "7478   job jobwhen know make differ live around youwh...   \n",
       "\n",
       "                                                 Details  \n",
       "64119  job summari knowledg univers ku site director ...  \n",
       "35827  ref id 03110118480classif secretaryadmin asstc...  \n",
       "72100  yoursquor energet motiv hardwork look prosper ...  \n",
       "46355  outsid wholesal sale rep job respons sale repr...  \n",
       "34166  captioncal commun assist imagin life without t...  \n",
       "43584  ref id00900140759classificationbookkeepercompe...  \n",
       "78169  job descriptionnuclear medicin tech prnjob num...  \n",
       "2211   ref id 001609715006classif officeadministr sup...  \n",
       "6936   ref id03410110048classificationaccount clerkco...  \n",
       "7478   job jobwhen know make differ live around youwh...  "
      ]
     },
     "execution_count": 17,
     "metadata": {},
     "output_type": "execute_result"
    }
   ],
   "source": [
    "df.head(10)"
   ]
  },
  {
   "cell_type": "code",
   "execution_count": 18,
   "id": "2378d66b",
   "metadata": {},
   "outputs": [
    {
     "data": {
      "text/plain": [
       "'job jobwhen know make differ live around youwhen go work everi day look forward day ahead youwhen decis make job realli matter serv cashier whether goal begin fantast fulltim career great parttim job talent valu respect murphi usa success cashier need energi excel work ethic great attitud smile face compani deliv legendari custom servic murphi usa associ known provid respons includeprovid prompt effici courteou custom experiencerespond resolv custom request concernsassist custom purchas fuel transactionsoper cash registerrestock merchandiseperform job relat duti assigneda job job career murphi usa murphi understand career much paycheck benefit that best provid support enjoy atmospher possibl employe reason murphi usa great career choiceenjoy workmurphi usa offer fast pace environ bright talent individu will work hard valu make differ flexibl schedulemurphi usa help schedul work around busi life advanc opportunitiesmurphi usa oper 1000 locat 20 state ad new locat everi year growth provid career advanc opportun top perform team member earn degreeal employe averag 20 hour per week elig educ assist offer murphi usa cashier murphi usacashier'"
      ]
     },
     "execution_count": 18,
     "metadata": {},
     "output_type": "execute_result"
    }
   ],
   "source": [
    "df['Details'][7478]"
   ]
  },
  {
   "cell_type": "markdown",
   "id": "adfa9195",
   "metadata": {},
   "source": [
    "# Model Training"
   ]
  },
  {
   "cell_type": "code",
   "execution_count": 19,
   "id": "78928576",
   "metadata": {},
   "outputs": [],
   "source": [
    "from sklearn.feature_extraction.text import TfidfVectorizer\n",
    "from sklearn.metrics.pairwise import cosine_similarity"
   ]
  },
  {
   "cell_type": "code",
   "execution_count": 20,
   "id": "7b122619",
   "metadata": {},
   "outputs": [],
   "source": [
    "tfif = TfidfVectorizer(stop_words='english')\n",
    "matrix = tfif.fit_transform(df['Details'])\n",
    "similarity = cosine_similarity(matrix)"
   ]
  },
  {
   "cell_type": "code",
   "execution_count": 21,
   "id": "79fbface",
   "metadata": {},
   "outputs": [
    {
     "data": {
      "text/plain": [
       "array([1.        , 0.04322045, 0.02131549, 0.01550165, 0.04964995,\n",
       "       0.02036638, 0.02700408, 0.03505718, 0.01901014, 0.03482128,\n",
       "       0.01090836, 0.03416738, 0.01894575, 0.03853524, 0.01006187,\n",
       "       0.00740002, 0.04901953, 0.04287255, 0.03806342, 0.01972925,\n",
       "       0.        , 0.01875441, 0.02177422, 0.01489302, 0.05954369,\n",
       "       0.05355905, 0.05433242, 0.02274386, 0.0140996 , 0.05815589,\n",
       "       0.01830453, 0.04464644, 0.0140905 , 0.02819856, 0.00607121,\n",
       "       0.06025036, 0.03092983, 0.07565575, 0.18257069, 0.0263457 ,\n",
       "       0.0469138 , 0.03061829, 0.00751644, 0.04104977, 0.02087271,\n",
       "       0.02806569, 0.06291036, 0.02108939, 0.03732435, 0.00736299,\n",
       "       0.0076782 , 0.03300888, 0.12100519, 0.01809469, 0.01081486,\n",
       "       0.01748105, 0.06821273, 0.07844168, 0.01447423, 0.14241843,\n",
       "       0.04932429, 0.02560791, 0.03148296, 0.04702356, 0.05872405,\n",
       "       0.00704433, 0.02982425, 0.03086835, 0.02294434, 0.0392745 ,\n",
       "       0.00534949, 0.00363448, 0.09515019, 0.03056481, 0.03026771,\n",
       "       0.01357503, 0.03147961, 0.01187216, 0.01390182, 0.02067173,\n",
       "       0.0155399 , 0.49306292, 0.0178291 , 0.03778027, 0.04772917,\n",
       "       0.02402712, 0.02464332, 0.05671662, 0.03254506, 0.04496089,\n",
       "       0.04795147, 0.01261844, 0.0238923 , 0.02142161, 0.09186124,\n",
       "       0.01666008, 0.05783606, 0.03219047, 0.02238846, 0.02383163,\n",
       "       0.01854968, 0.03409421, 0.01380517, 0.00489   , 0.03737213,\n",
       "       0.04450571, 0.03737213, 0.01744052, 0.0398417 , 0.02305107,\n",
       "       0.07578409, 0.01865112, 0.07224389, 0.12722363, 0.17263109,\n",
       "       0.08705741, 0.00424678, 0.02834391, 0.01331519, 0.01874636,\n",
       "       0.04693755, 0.03746451, 0.02246437, 0.0145446 , 0.1061192 ,\n",
       "       0.01003973, 0.02087271, 0.01971254, 0.24712959, 0.01291576,\n",
       "       0.02379834, 0.03632757, 0.05505429, 0.03240163, 0.07307555,\n",
       "       0.05315171, 0.02510975, 0.0151607 , 0.02383163, 0.01862062,\n",
       "       0.01957998, 0.04139094, 0.00707395, 0.02854943, 0.02342488,\n",
       "       0.01902194, 0.02611018, 0.04922167, 0.02592674, 0.07681837,\n",
       "       0.00607646, 0.01869197, 0.04730937, 0.0142184 , 0.02267687,\n",
       "       0.02276731, 0.01069788, 0.06270841, 0.03997135, 0.0277909 ,\n",
       "       0.04738511, 0.01903638, 0.00112856, 0.04842857, 0.01607624,\n",
       "       0.02415498, 0.00293095, 0.06466905, 0.03374142, 0.01959802,\n",
       "       0.01065751, 0.01985389, 0.01934671, 0.05815589, 0.00696416,\n",
       "       0.05815589, 0.08110533, 0.02938068, 0.04123312, 0.02308209,\n",
       "       0.0392718 , 0.01202173, 0.02091928, 0.00202135, 0.0296325 ,\n",
       "       0.03990004, 0.03806342, 0.03324211, 0.02460417, 0.06852226,\n",
       "       0.02431487, 0.04093557, 0.00141075, 0.05732337, 0.02458614,\n",
       "       0.13687145, 0.05558219, 0.04271514, 0.06773449, 0.02148407,\n",
       "       0.02471299, 0.01740355, 0.04237863, 0.03972212, 0.0567462 ,\n",
       "       0.07155882, 0.05061279, 0.0596488 , 0.04191916, 0.04769199,\n",
       "       0.05114652, 0.04938128, 0.03010793, 0.07273278, 0.03686264,\n",
       "       0.03087976, 0.05190446, 0.01577885, 0.04312539, 0.02038807,\n",
       "       0.07681837, 0.04464248, 0.07469215, 0.06907798, 0.0530842 ,\n",
       "       0.01904644, 0.01424829, 0.04246357, 0.00677364, 0.08194548,\n",
       "       0.02560791, 0.01693959, 0.02044166, 0.03320366, 0.03793235,\n",
       "       0.03644448, 0.00690621, 0.07681837, 0.00203434, 0.02590923,\n",
       "       0.02039385, 0.03427363, 0.03114125, 0.00866579, 0.0294162 ,\n",
       "       0.17963803, 0.04994036, 0.06900084, 0.01368671, 0.00733112,\n",
       "       0.05898288, 0.05371893, 0.25858112, 0.01764363, 0.16811345,\n",
       "       0.05057159, 0.0225727 , 0.04468307, 0.04699941, 0.06215163,\n",
       "       0.02304273, 0.05701862, 0.06980713, 0.04085876, 0.027553  ,\n",
       "       0.05409472, 0.03820414, 0.01524244, 0.00509958, 0.08446103,\n",
       "       0.00645695, 0.02856196, 0.03010916, 0.05116574, 0.05114652,\n",
       "       0.10134515, 0.97337729, 0.05815589, 0.        , 0.0217257 ,\n",
       "       0.04306957, 0.04526983, 0.00973912, 0.08574198, 0.1362552 ,\n",
       "       0.03975912, 0.01528348, 0.02632328, 0.03912151, 0.046166  ,\n",
       "       0.07245888, 0.01817617, 0.03114125, 0.07153702, 0.02144923,\n",
       "       0.07451455, 0.02260005, 0.00741875, 0.14465727, 0.00775163,\n",
       "       0.04442672, 0.02128239, 0.02901573, 0.0460433 , 0.03075192,\n",
       "       0.03728415, 0.00876273, 0.05057159, 0.02313537, 0.046166  ,\n",
       "       0.04572848, 0.0237746 , 0.10056312, 0.07081288, 0.05815589,\n",
       "       0.02962733, 0.08457288, 0.03011189, 0.07509325, 0.13490659,\n",
       "       0.03927781, 0.07524036, 0.01994408, 0.02485762, 0.05716111,\n",
       "       0.01852017, 0.12778123, 0.06581988, 0.05815589, 0.01517037,\n",
       "       0.02838926, 0.07992233, 0.05792874, 0.03211007, 0.02719974,\n",
       "       0.01184731, 0.06547215, 0.02905895, 0.0678171 , 0.03523658,\n",
       "       0.01771569, 0.11517241, 0.02557977, 0.03851629, 0.03882176,\n",
       "       0.01918214, 0.0052189 , 0.09738637, 0.00557625, 0.04627096,\n",
       "       0.01177882, 0.06981354, 0.01693959, 0.00962644, 0.0514627 ,\n",
       "       0.09635587, 0.02563525, 0.00355143, 0.01940088, 0.04384054,\n",
       "       0.23664048, 0.06206   , 0.08243307, 0.08838677, 0.0294162 ,\n",
       "       0.03901509, 0.0770509 , 0.06168961, 0.07681837, 0.04795147,\n",
       "       0.07497715, 0.05458343, 0.04629183, 0.03152541, 0.06727695,\n",
       "       0.03246674, 0.00193454, 0.02073854, 0.01977584, 0.02785193,\n",
       "       0.02819856, 0.06626572, 0.02210195, 0.02102758, 0.05349898,\n",
       "       0.05780523, 0.04869361, 0.00501614, 0.02276731, 0.04081201,\n",
       "       0.00543016, 0.04239114, 0.04597771, 0.07681837, 0.05638945,\n",
       "       0.12295609, 0.00959846, 0.07799376, 0.12546954, 0.01377029,\n",
       "       0.05889572, 0.03604062, 0.04760425, 0.06299254, 0.04081201,\n",
       "       0.02311414, 0.01148755, 0.07792286, 0.03010862, 0.01132011,\n",
       "       0.03500904, 0.05057159, 0.08141939, 0.06478409, 0.05815589,\n",
       "       0.01739526, 0.04226305, 0.01839585, 0.02406924, 0.01445361,\n",
       "       0.0681253 , 0.00965979, 0.01224945, 0.00826772, 0.05675966,\n",
       "       0.04827906, 0.03396691, 0.04747   , 0.05815589, 0.06535014,\n",
       "       0.00861728, 0.02991891, 0.06010731, 0.11198661, 0.01297474,\n",
       "       0.03245842, 0.01766153, 0.05601114, 0.01519862, 0.04777281,\n",
       "       0.03358193, 0.0136795 , 0.0161211 , 0.02853664, 0.00694849,\n",
       "       0.06872784, 0.02838926, 0.03155427, 0.04144681, 0.00120912,\n",
       "       0.05693267, 0.04725485, 0.00174548, 0.01519633, 0.04832664,\n",
       "       0.04034541, 0.07550366, 0.070062  , 0.03871383, 0.01985389,\n",
       "       0.0587176 , 0.04825874, 0.01387885, 0.04710401, 0.04660767,\n",
       "       0.04682952, 0.03501896, 0.06250002, 0.09445106, 0.13476381,\n",
       "       0.04772022, 0.00837303, 0.02437376, 0.01294904, 0.04239114,\n",
       "       0.04181728, 0.01723998, 0.07176907, 0.02291807, 0.0094624 ,\n",
       "       0.05125583, 0.08528649, 0.02739961, 0.04746513, 0.04542583,\n",
       "       0.05854073, 0.04294092, 0.02205039, 0.09390078, 0.01403888,\n",
       "       0.03449345, 0.08115027, 0.03482128, 0.00935405, 0.01931607,\n",
       "       0.00404297, 0.01430947, 0.04411178, 0.02462326, 0.05061279,\n",
       "       0.02256584, 0.02025095, 0.01830685, 0.05815589, 0.01723628,\n",
       "       0.05815589, 0.01618358, 0.02609467, 0.02209793, 0.04287544,\n",
       "       0.02294436, 0.0377711 , 0.0021699 , 0.0101354 , 0.02485065,\n",
       "       0.07588469, 0.01283532, 0.02704948, 0.02300246, 0.05623836,\n",
       "       0.08050283, 0.04658723, 0.03170619, 0.00151967, 0.02042475,\n",
       "       0.01552276, 0.0136097 , 0.05475035, 0.13117421, 0.01250312,\n",
       "       0.04746513, 0.07598508, 0.05500614, 0.03296248, 0.05377417,\n",
       "       0.01764259, 0.06078297, 0.00931906, 0.06938522, 0.12264366,\n",
       "       0.02270951, 0.00866497, 0.02574213, 0.00160804, 0.03045728,\n",
       "       0.00833579, 0.01373108, 0.05114652, 0.08534586, 0.        ,\n",
       "       0.0212644 , 0.02445831, 0.01522196, 0.01440277, 0.03665803,\n",
       "       0.01763151, 0.11151216, 0.04818168, 0.00720556, 0.05295261,\n",
       "       0.        , 0.0460221 , 0.02489655, 0.05057159, 0.038211  ,\n",
       "       0.05926681, 0.00750454, 0.03691742, 0.01000996, 0.04178453,\n",
       "       0.02811452, 0.06800919, 0.07728317, 0.05970694, 0.01341394,\n",
       "       0.01807321, 0.00425361, 0.02595856, 0.0112792 , 0.02850894,\n",
       "       0.03192605, 0.0269967 , 0.10572265, 0.0370796 , 0.07412864,\n",
       "       0.01153242, 0.01322865, 0.01266097, 0.02279195, 0.        ,\n",
       "       0.02855198, 0.03377373, 0.04541013, 0.05459935, 0.0415666 ,\n",
       "       0.08159882, 0.04622659, 0.03874684, 0.0143846 , 0.01328975,\n",
       "       0.02560791, 0.00495245, 0.07147055, 0.06219951, 0.0347476 ,\n",
       "       0.01163722, 0.01807224, 0.01820691, 0.0076458 , 0.02383163,\n",
       "       0.07724616, 0.02648852, 0.05082055, 0.05898288, 0.01872824,\n",
       "       0.05022482, 0.06293849, 0.01251739, 0.01581606, 0.01165239,\n",
       "       0.00334414, 0.02304705, 0.05394428, 0.01603622, 0.04200044,\n",
       "       0.05703613, 0.04109759, 0.0237988 , 0.03412196, 0.20888816,\n",
       "       0.0104015 , 0.03737213, 0.04931643, 0.00509141, 0.        ,\n",
       "       0.06342799, 0.01977324, 0.00441987, 0.00315635, 0.04045246,\n",
       "       0.0275392 , 0.05724154, 0.06639778, 0.03639225, 0.07619986,\n",
       "       0.03788134, 0.05251942, 0.03138838, 0.07368796, 0.01804185,\n",
       "       0.01373852, 0.02545232, 0.01106466, 0.01090836, 0.00175964,\n",
       "       0.12860036, 0.00621889, 0.0146311 , 0.12100519, 0.06139312,\n",
       "       0.00682291, 0.00924586, 0.01895715, 0.04278217, 0.02940795,\n",
       "       0.13015719, 0.02606466, 0.03091627, 0.00620951, 0.04084184,\n",
       "       0.07096432, 0.05578936, 0.02018338, 0.05061279, 0.01089512,\n",
       "       0.01866184, 0.0593093 , 0.02252659, 0.05614973, 0.10216139,\n",
       "       0.05906324, 0.02202925, 0.00846286, 0.02898631, 0.00879106,\n",
       "       0.        , 0.02175794, 0.056648  , 0.06579172, 0.02924551,\n",
       "       0.01720812, 0.01358452, 0.03252919, 0.01541884, 0.01169968,\n",
       "       0.03457188, 0.09181412, 0.03394535, 0.05905801, 0.03133856,\n",
       "       0.01218887, 0.10875433, 0.05299262, 0.04404988, 0.02487885,\n",
       "       0.03963075, 0.02632437, 0.022959  , 0.04783852, 0.03199863,\n",
       "       0.04615287, 0.01410241, 0.04456398, 0.04766377, 0.02228766,\n",
       "       0.00799575, 0.02607675, 0.00402167, 0.06940913, 0.03990508,\n",
       "       0.01644699, 0.03315294, 0.01590233, 0.08200765, 0.03573668,\n",
       "       0.03219047, 0.01654607, 0.01447423, 0.05638034, 0.04239114,\n",
       "       0.51814241, 0.01262066, 0.09218833, 0.05589747, 0.11938005,\n",
       "       0.02281732, 0.04275669, 0.02030466, 0.00775491, 0.05993235,\n",
       "       0.06270841, 0.04724897, 0.00250201, 0.02423766, 0.06940913,\n",
       "       0.00235442, 0.04801135, 0.04517434, 0.02573924, 0.05872405,\n",
       "       0.01371461, 0.06513671, 0.02831486, 0.04336441, 0.00824775,\n",
       "       0.00989859, 0.09325898, 0.02590726, 0.03091602, 0.03337769,\n",
       "       0.04813116, 0.08115185, 0.05061279, 0.01446729, 0.0054578 ,\n",
       "       0.02056919, 0.02552046, 0.02439357, 0.        , 0.03026771,\n",
       "       0.05944259, 0.01158486, 0.01723998, 0.03626848, 0.01560226,\n",
       "       0.02324688, 0.0184851 , 0.03318299, 0.03699401, 0.03625427,\n",
       "       0.05150041, 0.05057159, 0.0313346 , 0.02818359, 0.00239621,\n",
       "       0.03116182, 0.00200085, 0.        , 0.04420975, 0.03152543,\n",
       "       0.04956087, 0.04890535, 0.03414959, 0.01508657, 0.0832728 ,\n",
       "       0.00876273, 0.01640367, 0.03481618, 0.074497  , 0.00142475,\n",
       "       0.01701625, 0.00487311, 0.02455643, 0.08658678, 0.03354269,\n",
       "       0.05196482, 0.02870846, 0.02371938, 0.05071632, 0.03299319,\n",
       "       0.02485065, 0.04537603, 0.04081201, 0.00464242, 0.00874007,\n",
       "       0.00391186, 0.03458448, 0.02653975, 0.00529349, 0.09145835,\n",
       "       0.00117744, 0.01730765, 0.03503512, 0.03922841, 0.03091602,\n",
       "       0.21870642, 0.02593204, 0.02678935, 0.00365684, 0.07681837,\n",
       "       0.05322123, 0.01022073, 0.08040608, 0.04806336, 0.04746513,\n",
       "       0.        , 0.01594637, 0.        , 0.01557606, 0.06088611,\n",
       "       0.07136426, 0.02273302, 0.03384008, 0.04119038, 0.00895799,\n",
       "       0.01201759, 0.01074338, 0.09925554, 0.01754794, 0.09047602,\n",
       "       0.04396182, 0.02337764, 0.02229598, 0.04301794, 0.04135423,\n",
       "       0.        , 0.03228339, 0.12317045, 0.053427  , 0.04746513,\n",
       "       0.01872291, 0.02370063, 0.05647103, 0.04110865, 0.02112835,\n",
       "       0.10441468, 0.02015556, 0.01612147, 0.04855077, 0.01892392,\n",
       "       0.03152541, 0.01450791, 0.03345959, 0.0578282 , 0.00725632,\n",
       "       0.02249872, 0.0174955 , 0.07681837, 0.01012111, 0.06800919,\n",
       "       0.02383163, 0.03855974, 0.0408951 , 0.02017478, 0.06395091,\n",
       "       0.00585791, 0.08050714, 0.03939635, 0.01005454, 0.03091602,\n",
       "       0.11472572, 0.06333614, 0.06285362, 0.07046478, 0.03740544,\n",
       "       0.04913222, 0.02827451, 0.01873528, 0.05684708, 0.0240991 ,\n",
       "       0.        , 0.03272209, 0.00586045, 0.06919393, 0.09465498,\n",
       "       0.07681837, 0.05282797, 0.01513335, 0.03448637, 0.04810545,\n",
       "       0.07573513, 0.01065456, 0.02103059, 0.02592019, 0.00330706,\n",
       "       0.03452861, 0.03204862, 0.49306292, 0.03477254, 0.04367806,\n",
       "       0.02506279, 0.01713093, 0.03040909, 0.03454765, 0.05057159,\n",
       "       0.02985466, 0.02560791, 0.04426502, 0.01804997, 0.01468009,\n",
       "       0.00428979, 0.06541648, 0.03249955, 0.02113418, 0.01936467,\n",
       "       0.04851965, 0.00707225, 0.01433665, 0.0255902 , 0.01955975,\n",
       "       0.13972635, 0.06215356, 0.00658329, 0.00649257, 0.02191976,\n",
       "       0.05139422, 0.05815589, 0.05473557, 0.05274675, 0.01839261,\n",
       "       0.01761169, 0.02067429, 0.04178453, 0.01090836, 0.01577273,\n",
       "       0.02266452, 0.01359038, 0.04823014, 0.03016734, 0.07081288,\n",
       "       0.04134216, 0.05316281, 0.01774957, 0.05615994, 0.04712382,\n",
       "       0.13588092, 0.01671689, 0.04034422, 0.01051947, 0.03611126,\n",
       "       0.0487425 , 0.04692014, 0.05079117, 0.02887726, 0.02362882,\n",
       "       0.06849304, 0.03184206, 0.01090836, 0.03873871, 0.01369928,\n",
       "       0.05212019, 0.02501663, 0.10560995, 0.01540968, 0.02279925,\n",
       "       0.02345883, 0.00724644, 0.01582669, 0.00596527, 0.05613748,\n",
       "       0.02489703, 0.03593335, 0.04571313, 0.06200912, 0.0228392 ,\n",
       "       0.05815589, 0.03398276, 0.05101897, 0.02496253, 0.08044478])"
      ]
     },
     "execution_count": 21,
     "metadata": {},
     "output_type": "execute_result"
    }
   ],
   "source": [
    "similarity[0]"
   ]
  },
  {
   "cell_type": "code",
   "execution_count": 22,
   "id": "c12663ca",
   "metadata": {},
   "outputs": [],
   "source": [
    "sorting = sorted(list(enumerate(similarity[0])), key=lambda x: x[1], reverse=True)[1:20]"
   ]
  },
  {
   "cell_type": "code",
   "execution_count": 23,
   "id": "deea1ec8",
   "metadata": {},
   "outputs": [
    {
     "name": "stdout",
     "output_type": "stream",
     "text": [
      "[(276, 0.9733772868873092), (730, 0.5181424118134745), (81, 0.49306292063609425), (917, 0.49306292063609425), (252, 0.2585811153172217), (128, 0.24712958824951992), (360, 0.23664048105861918), (825, 0.21870641716425473), (629, 0.2088881569389071), (38, 0.18257068622788095), (245, 0.1796380318454525), (114, 0.17263108553231282), (254, 0.16811344897738498), (298, 0.1446572732370542), (59, 0.14241842988596462), (940, 0.13972634715716156), (195, 0.1368714545586078), (284, 0.13625519998756502), (965, 0.13588092414113367)]\n"
     ]
    }
   ],
   "source": [
    "print(sorting)"
   ]
  },
  {
   "cell_type": "markdown",
   "id": "f8728e85",
   "metadata": {},
   "source": [
    "# Scatterplot"
   ]
  },
  {
   "cell_type": "code",
   "execution_count": 32,
   "id": "0ee1b6e2",
   "metadata": {},
   "outputs": [],
   "source": [
    "import matplotlib.pyplot as plt"
   ]
  },
  {
   "cell_type": "code",
   "execution_count": 39,
   "id": "a8ca0bbe",
   "metadata": {},
   "outputs": [],
   "source": [
    "# Extract x and y coordinates\n",
    "x = [coord[1] for coord in sorting]\n",
    "y = [coord[0] for coord in sorting]"
   ]
  },
  {
   "cell_type": "code",
   "execution_count": 40,
   "id": "91c2381c",
   "metadata": {},
   "outputs": [
    {
     "data": {
      "text/plain": [
       "<matplotlib.collections.PathCollection at 0x204422660d0>"
      ]
     },
     "execution_count": 40,
     "metadata": {},
     "output_type": "execute_result"
    },
    {
     "data": {
      "image/png": "[encoded data removed]",
      "text/plain": [
       "<Figure size 640x480 with 1 Axes>"
      ]
     },
     "metadata": {},
     "output_type": "display_data"
    }
   ],
   "source": [
    "# Adding labels and title\n",
    "plt.xlabel('Cosine Similarity')\n",
    "plt.ylabel('Index Value')\n",
    "plt.title('Cosine Similarity')\n",
    "\n",
    "# Plotting the scatter plot\n",
    "plt.scatter(x, y)"
   ]
  },
  {
   "cell_type": "markdown",
   "id": "54f72418",
   "metadata": {},
   "source": [
    "# Backend Job Recommendation System"
   ]
  },
  {
   "cell_type": "code",
   "execution_count": 24,
   "id": "6e3eb1fb",
   "metadata": {},
   "outputs": [],
   "source": [
    "def recommendation(title):\n",
    "    placeIndex = df[df['Title'] == title].index[0]\n",
    "    placeIndex = df.index.get_loc(placeIndex)\n",
    "    distances = sorted(list(enumerate(similarity[placeIndex])),key=lambda x: x[1], reverse=True)[1:20]\n",
    "    \n",
    "    jobs = []\n",
    "    for i in distances:\n",
    "        jobs.append(df.iloc[i[0]].Title)\n",
    "    return jobs"
   ]
  },
  {
   "cell_type": "code",
   "execution_count": 25,
   "id": "ac44cbac",
   "metadata": {},
   "outputs": [
    {
     "data": {
      "text/plain": [
       "['site director knowledg univers educ llc',\n",
       " 'teacher knowledg univers',\n",
       " 'assist teacher knowledg univers',\n",
       " 'assist teacher knowledg univers',\n",
       " 'cook knowledg univers',\n",
       " 'immedi open assist teacher la petit academi',\n",
       " 'summer school age assist children courtyard',\n",
       " 'hvac instructor vatterott educ center',\n",
       " 'temporari coordin site oper macyscom maci',\n",
       " 'fellowship program coordin connecticut children medic center',\n",
       " 'medic offic assist instructor concord career colleg inc',\n",
       " 'youth camp residenti assist activ coordin new york ny el educ servic',\n",
       " 'pharmaci adjunct instructor brown macki colleg',\n",
       " 'secur offic regular securita usa',\n",
       " 'secur offic 100000 job coalit securita usa',\n",
       " 'school day camp counselor ii ymca greenvil',\n",
       " 'faculti call zenith educ group',\n",
       " 'faculti support specialist zenith educ group',\n",
       " 'handbag sell specialist part time bloomingdal chevi chase md bloomingdal']"
      ]
     },
     "execution_count": 25,
     "metadata": {},
     "output_type": "execute_result"
    }
   ],
   "source": [
    "recommendation(\"site director knowledg univers\")"
   ]
  },
  {
   "cell_type": "code",
   "execution_count": 26,
   "id": "7452adb5",
   "metadata": {},
   "outputs": [],
   "source": [
    "import pickle\n",
    "pickle.dump(df, open(\"df.pkl\", 'wb'))\n",
    "pickle.dump(similarity, open('similarity.pkl', 'wb'))"
   ]
  }
 ],
 "metadata": {
  "kernelspec": {
   "display_name": "Python 3 (ipykernel)",
   "language": "python",
   "name": "python3"
  },
  "language_info": {
   "codemirror_mode": {
    "name": "ipython",
    "version": 3
   },
   "file_extension": ".py",
   "mimetype": "text/x-python",
   "name": "python",
   "nbconvert_exporter": "python",
   "pygments_lexer": "ipython3",
   "version": "3.11.4"
  }
 },
 "nbformat": 4,
 "nbformat_minor": 5
}
