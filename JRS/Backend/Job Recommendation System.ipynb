{
 "cells": [
  {
   "cell_type": "markdown",
   "id": "312fd1c0",
   "metadata": {},
   "source": [
    "# Data Collection & Exploratory"
   ]
  },
  {
   "cell_type": "code",
   "execution_count": 1,
   "id": "ed2b518e",
   "metadata": {},
   "outputs": [],
   "source": [
    "import numpy as np\n",
    "import pandas as pd"
   ]
  },
  {
   "cell_type": "code",
   "execution_count": 2,
   "id": "93b15ef5",
   "metadata": {},
   "outputs": [],
   "source": [
    "df = pd.read_csv('Combined_Jobs_Final.csv')"
   ]
  },
  {
   "cell_type": "code",
   "execution_count": 3,
   "id": "786df900",
   "metadata": {},
   "outputs": [
    {
     "data": {
      "text/html": [
       "<div>\n",
       "<style scoped>\n",
       "    .dataframe tbody tr th:only-of-type {\n",
       "        vertical-align: middle;\n",
       "    }\n",
       "\n",
       "    .dataframe tbody tr th {\n",
       "        vertical-align: top;\n",
       "    }\n",
       "\n",
       "    .dataframe thead th {\n",
       "        text-align: right;\n",
       "    }\n",
       "</style>\n",
       "<table border=\"1\" class=\"dataframe\">\n",
       "  <thead>\n",
       "    <tr style=\"text-align: right;\">\n",
       "      <th></th>\n",
       "      <th>Job.ID</th>\n",
       "      <th>Provider</th>\n",
       "      <th>Status</th>\n",
       "      <th>Slug</th>\n",
       "      <th>Title</th>\n",
       "      <th>Position</th>\n",
       "      <th>Company</th>\n",
       "      <th>City</th>\n",
       "      <th>State.Name</th>\n",
       "      <th>State.Code</th>\n",
       "      <th>...</th>\n",
       "      <th>Industry</th>\n",
       "      <th>Job.Description</th>\n",
       "      <th>Requirements</th>\n",
       "      <th>Salary</th>\n",
       "      <th>Listing.Start</th>\n",
       "      <th>Listing.End</th>\n",
       "      <th>Employment.Type</th>\n",
       "      <th>Education.Required</th>\n",
       "      <th>Created.At</th>\n",
       "      <th>Updated.At</th>\n",
       "    </tr>\n",
       "  </thead>\n",
       "  <tbody>\n",
       "    <tr>\n",
       "      <th>0</th>\n",
       "      <td>111</td>\n",
       "      <td>1</td>\n",
       "      <td>open</td>\n",
       "      <td>palo-alto-ca-tacolicious-server</td>\n",
       "      <td>Server @ Tacolicious</td>\n",
       "      <td>Server</td>\n",
       "      <td>Tacolicious</td>\n",
       "      <td>Palo Alto</td>\n",
       "      <td>California</td>\n",
       "      <td>CA</td>\n",
       "      <td>...</td>\n",
       "      <td>Food and Beverages</td>\n",
       "      <td>Tacolicious' first Palo Alto store just opened...</td>\n",
       "      <td>NaN</td>\n",
       "      <td>8.00</td>\n",
       "      <td>NaN</td>\n",
       "      <td>NaN</td>\n",
       "      <td>Part-Time</td>\n",
       "      <td>NaN</td>\n",
       "      <td>2013-03-12 02:08:28 UTC</td>\n",
       "      <td>2014-08-16 15:35:36 UTC</td>\n",
       "    </tr>\n",
       "    <tr>\n",
       "      <th>1</th>\n",
       "      <td>113</td>\n",
       "      <td>1</td>\n",
       "      <td>open</td>\n",
       "      <td>san-francisco-ca-claude-lane-kitchen-staff-chef</td>\n",
       "      <td>Kitchen Staff/Chef @ Claude Lane</td>\n",
       "      <td>Kitchen Staff/Chef</td>\n",
       "      <td>Claude Lane</td>\n",
       "      <td>San Francisco</td>\n",
       "      <td>California</td>\n",
       "      <td>CA</td>\n",
       "      <td>...</td>\n",
       "      <td>Food and Beverages</td>\n",
       "      <td>\\r\\n\\r\\nNew French Brasserie in S.F. Financia...</td>\n",
       "      <td>NaN</td>\n",
       "      <td>0.00</td>\n",
       "      <td>NaN</td>\n",
       "      <td>NaN</td>\n",
       "      <td>Part-Time</td>\n",
       "      <td>NaN</td>\n",
       "      <td>2013-04-12 08:36:36 UTC</td>\n",
       "      <td>2014-08-16 15:35:36 UTC</td>\n",
       "    </tr>\n",
       "    <tr>\n",
       "      <th>2</th>\n",
       "      <td>117</td>\n",
       "      <td>1</td>\n",
       "      <td>open</td>\n",
       "      <td>san-francisco-ca-machka-restaurants-corp-barte...</td>\n",
       "      <td>Bartender @ Machka Restaurants Corp.</td>\n",
       "      <td>Bartender</td>\n",
       "      <td>Machka Restaurants Corp.</td>\n",
       "      <td>San Francisco</td>\n",
       "      <td>California</td>\n",
       "      <td>CA</td>\n",
       "      <td>...</td>\n",
       "      <td>Food and Beverages</td>\n",
       "      <td>We are a popular Mediterranean wine bar and re...</td>\n",
       "      <td>NaN</td>\n",
       "      <td>11.00</td>\n",
       "      <td>NaN</td>\n",
       "      <td>NaN</td>\n",
       "      <td>Part-Time</td>\n",
       "      <td>NaN</td>\n",
       "      <td>2013-07-16 09:34:10 UTC</td>\n",
       "      <td>2014-08-16 15:35:37 UTC</td>\n",
       "    </tr>\n",
       "    <tr>\n",
       "      <th>3</th>\n",
       "      <td>121</td>\n",
       "      <td>1</td>\n",
       "      <td>open</td>\n",
       "      <td>brisbane-ca-teriyaki-house-server</td>\n",
       "      <td>Server @ Teriyaki House</td>\n",
       "      <td>Server</td>\n",
       "      <td>Teriyaki House</td>\n",
       "      <td>Brisbane</td>\n",
       "      <td>California</td>\n",
       "      <td>CA</td>\n",
       "      <td>...</td>\n",
       "      <td>Food and Beverages</td>\n",
       "      <td>● Serve food/drinks to customers in a profess...</td>\n",
       "      <td>NaN</td>\n",
       "      <td>10.55</td>\n",
       "      <td>NaN</td>\n",
       "      <td>NaN</td>\n",
       "      <td>Part-Time</td>\n",
       "      <td>NaN</td>\n",
       "      <td>2013-09-04 15:40:30 UTC</td>\n",
       "      <td>2014-08-16 15:35:38 UTC</td>\n",
       "    </tr>\n",
       "    <tr>\n",
       "      <th>4</th>\n",
       "      <td>127</td>\n",
       "      <td>1</td>\n",
       "      <td>open</td>\n",
       "      <td>los-angeles-ca-rosa-mexicano-sunset-kitchen-st...</td>\n",
       "      <td>Kitchen Staff/Chef @ Rosa Mexicano - Sunset</td>\n",
       "      <td>Kitchen Staff/Chef</td>\n",
       "      <td>Rosa Mexicano - Sunset</td>\n",
       "      <td>Los Angeles</td>\n",
       "      <td>California</td>\n",
       "      <td>CA</td>\n",
       "      <td>...</td>\n",
       "      <td>Food and Beverages</td>\n",
       "      <td>Located at the heart of Hollywood, we are one ...</td>\n",
       "      <td>NaN</td>\n",
       "      <td>10.55</td>\n",
       "      <td>NaN</td>\n",
       "      <td>NaN</td>\n",
       "      <td>Part-Time</td>\n",
       "      <td>NaN</td>\n",
       "      <td>2013-07-17 15:26:18 UTC</td>\n",
       "      <td>2014-08-16 15:35:40 UTC</td>\n",
       "    </tr>\n",
       "  </tbody>\n",
       "</table>\n",
       "<p>5 rows × 23 columns</p>\n",
       "</div>"
      ],
      "text/plain": [
       "   Job.ID  Provider Status                                               Slug  \\\n",
       "0     111         1   open                    palo-alto-ca-tacolicious-server   \n",
       "1     113         1   open    san-francisco-ca-claude-lane-kitchen-staff-chef   \n",
       "2     117         1   open  san-francisco-ca-machka-restaurants-corp-barte...   \n",
       "3     121         1   open                  brisbane-ca-teriyaki-house-server   \n",
       "4     127         1   open  los-angeles-ca-rosa-mexicano-sunset-kitchen-st...   \n",
       "\n",
       "                                         Title            Position  \\\n",
       "0                         Server @ Tacolicious              Server   \n",
       "1             Kitchen Staff/Chef @ Claude Lane  Kitchen Staff/Chef   \n",
       "2         Bartender @ Machka Restaurants Corp.           Bartender   \n",
       "3                      Server @ Teriyaki House              Server   \n",
       "4  Kitchen Staff/Chef @ Rosa Mexicano - Sunset  Kitchen Staff/Chef   \n",
       "\n",
       "                    Company           City  State.Name State.Code  ...  \\\n",
       "0               Tacolicious      Palo Alto  California         CA  ...   \n",
       "1               Claude Lane  San Francisco  California         CA  ...   \n",
       "2  Machka Restaurants Corp.  San Francisco  California         CA  ...   \n",
       "3            Teriyaki House       Brisbane  California         CA  ...   \n",
       "4    Rosa Mexicano - Sunset    Los Angeles  California         CA  ...   \n",
       "\n",
       "             Industry                                    Job.Description  \\\n",
       "0  Food and Beverages  Tacolicious' first Palo Alto store just opened...   \n",
       "1  Food and Beverages   \\r\\n\\r\\nNew French Brasserie in S.F. Financia...   \n",
       "2  Food and Beverages  We are a popular Mediterranean wine bar and re...   \n",
       "3  Food and Beverages   ● Serve food/drinks to customers in a profess...   \n",
       "4  Food and Beverages  Located at the heart of Hollywood, we are one ...   \n",
       "\n",
       "   Requirements Salary Listing.Start  Listing.End  Employment.Type  \\\n",
       "0           NaN   8.00           NaN          NaN        Part-Time   \n",
       "1           NaN   0.00           NaN          NaN        Part-Time   \n",
       "2           NaN  11.00           NaN          NaN        Part-Time   \n",
       "3           NaN  10.55           NaN          NaN        Part-Time   \n",
       "4           NaN  10.55           NaN          NaN        Part-Time   \n",
       "\n",
       "  Education.Required               Created.At               Updated.At  \n",
       "0                NaN  2013-03-12 02:08:28 UTC  2014-08-16 15:35:36 UTC  \n",
       "1                NaN  2013-04-12 08:36:36 UTC  2014-08-16 15:35:36 UTC  \n",
       "2                NaN  2013-07-16 09:34:10 UTC  2014-08-16 15:35:37 UTC  \n",
       "3                NaN  2013-09-04 15:40:30 UTC  2014-08-16 15:35:38 UTC  \n",
       "4                NaN  2013-07-17 15:26:18 UTC  2014-08-16 15:35:40 UTC  \n",
       "\n",
       "[5 rows x 23 columns]"
      ]
     },
     "execution_count": 3,
     "metadata": {},
     "output_type": "execute_result"
    }
   ],
   "source": [
    "df.head(5)"
   ]
  },
  {
   "cell_type": "code",
   "execution_count": 4,
   "id": "a45ad9f9",
   "metadata": {},
   "outputs": [
    {
     "name": "stdout",
     "output_type": "stream",
     "text": [
      "84090\n"
     ]
    }
   ],
   "source": [
    "df = df[['Status', 'Title', 'Position', 'Company', 'Job.Description']]\n",
    "print(len(df))"
   ]
  },
  {
   "cell_type": "code",
   "execution_count": 5,
   "id": "5807cbea",
   "metadata": {},
   "outputs": [
    {
     "data": {
      "text/html": [
       "<div>\n",
       "<style scoped>\n",
       "    .dataframe tbody tr th:only-of-type {\n",
       "        vertical-align: middle;\n",
       "    }\n",
       "\n",
       "    .dataframe tbody tr th {\n",
       "        vertical-align: top;\n",
       "    }\n",
       "\n",
       "    .dataframe thead th {\n",
       "        text-align: right;\n",
       "    }\n",
       "</style>\n",
       "<table border=\"1\" class=\"dataframe\">\n",
       "  <thead>\n",
       "    <tr style=\"text-align: right;\">\n",
       "      <th></th>\n",
       "      <th>Status</th>\n",
       "      <th>Title</th>\n",
       "      <th>Position</th>\n",
       "      <th>Company</th>\n",
       "      <th>Job.Description</th>\n",
       "    </tr>\n",
       "  </thead>\n",
       "  <tbody>\n",
       "    <tr>\n",
       "      <th>0</th>\n",
       "      <td>open</td>\n",
       "      <td>Server @ Tacolicious</td>\n",
       "      <td>Server</td>\n",
       "      <td>Tacolicious</td>\n",
       "      <td>Tacolicious' first Palo Alto store just opened...</td>\n",
       "    </tr>\n",
       "    <tr>\n",
       "      <th>1</th>\n",
       "      <td>open</td>\n",
       "      <td>Kitchen Staff/Chef @ Claude Lane</td>\n",
       "      <td>Kitchen Staff/Chef</td>\n",
       "      <td>Claude Lane</td>\n",
       "      <td>\\r\\n\\r\\nNew French Brasserie in S.F. Financia...</td>\n",
       "    </tr>\n",
       "    <tr>\n",
       "      <th>2</th>\n",
       "      <td>open</td>\n",
       "      <td>Bartender @ Machka Restaurants Corp.</td>\n",
       "      <td>Bartender</td>\n",
       "      <td>Machka Restaurants Corp.</td>\n",
       "      <td>We are a popular Mediterranean wine bar and re...</td>\n",
       "    </tr>\n",
       "    <tr>\n",
       "      <th>3</th>\n",
       "      <td>open</td>\n",
       "      <td>Server @ Teriyaki House</td>\n",
       "      <td>Server</td>\n",
       "      <td>Teriyaki House</td>\n",
       "      <td>● Serve food/drinks to customers in a profess...</td>\n",
       "    </tr>\n",
       "    <tr>\n",
       "      <th>4</th>\n",
       "      <td>open</td>\n",
       "      <td>Kitchen Staff/Chef @ Rosa Mexicano - Sunset</td>\n",
       "      <td>Kitchen Staff/Chef</td>\n",
       "      <td>Rosa Mexicano - Sunset</td>\n",
       "      <td>Located at the heart of Hollywood, we are one ...</td>\n",
       "    </tr>\n",
       "  </tbody>\n",
       "</table>\n",
       "</div>"
      ],
      "text/plain": [
       "  Status                                        Title            Position  \\\n",
       "0   open                         Server @ Tacolicious              Server   \n",
       "1   open             Kitchen Staff/Chef @ Claude Lane  Kitchen Staff/Chef   \n",
       "2   open         Bartender @ Machka Restaurants Corp.           Bartender   \n",
       "3   open                      Server @ Teriyaki House              Server   \n",
       "4   open  Kitchen Staff/Chef @ Rosa Mexicano - Sunset  Kitchen Staff/Chef   \n",
       "\n",
       "                    Company                                    Job.Description  \n",
       "0               Tacolicious  Tacolicious' first Palo Alto store just opened...  \n",
       "1               Claude Lane   \\r\\n\\r\\nNew French Brasserie in S.F. Financia...  \n",
       "2  Machka Restaurants Corp.  We are a popular Mediterranean wine bar and re...  \n",
       "3            Teriyaki House   ● Serve food/drinks to customers in a profess...  \n",
       "4    Rosa Mexicano - Sunset  Located at the heart of Hollywood, we are one ...  "
      ]
     },
     "execution_count": 5,
     "metadata": {},
     "output_type": "execute_result"
    }
   ],
   "source": [
    "df.head(5)"
   ]
  },
  {
   "cell_type": "code",
   "execution_count": 6,
   "id": "b8458fac",
   "metadata": {},
   "outputs": [
    {
     "data": {
      "text/plain": [
       "'Receptionist @ Mind of Beauty Day Spa'"
      ]
     },
     "execution_count": 6,
     "metadata": {},
     "output_type": "execute_result"
    }
   ],
   "source": [
    "df['Title'][5]"
   ]
  },
  {
   "cell_type": "code",
   "execution_count": 7,
   "id": "ee54586c",
   "metadata": {},
   "outputs": [
    {
     "data": {
      "text/plain": [
       "'We are a group of professional massage therapists. We are currently looking for a receptionist who can speak both Mandarin and English fluently. Please apply if you are interested! \\r\\n\\r\\n● Act as a receptionist\\r\\n● Support the staff when needed \\r\\n'"
      ]
     },
     "execution_count": 7,
     "metadata": {},
     "output_type": "execute_result"
    }
   ],
   "source": [
    "df['Job.Description'][5]"
   ]
  },
  {
   "cell_type": "code",
   "execution_count": 8,
   "id": "eb395c9e",
   "metadata": {},
   "outputs": [
    {
     "data": {
      "text/plain": [
       "Status             0\n",
       "Title              0\n",
       "Position           0\n",
       "Company            0\n",
       "Job.Description    0\n",
       "dtype: int64"
      ]
     },
     "execution_count": 8,
     "metadata": {},
     "output_type": "execute_result"
    }
   ],
   "source": [
    "df.isnull().sum()\n",
    "df.fillna('',inplace=True)\n",
    "df.isnull().sum()"
   ]
  },
  {
   "cell_type": "code",
   "execution_count": 9,
   "id": "6d40eaf8",
   "metadata": {},
   "outputs": [],
   "source": [
    "df = df.sample(n=1000,random_state=42)"
   ]
  },
  {
   "cell_type": "code",
   "execution_count": 10,
   "id": "423be37a",
   "metadata": {},
   "outputs": [
    {
     "data": {
      "text/plain": [
       "(1000, 5)"
      ]
     },
     "execution_count": 10,
     "metadata": {},
     "output_type": "execute_result"
    }
   ],
   "source": [
    "df.shape"
   ]
  },
  {
   "cell_type": "markdown",
   "id": "fd6b7928",
   "metadata": {},
   "source": [
    "# Data Cleaning & Pre-processing"
   ]
  },
  {
   "cell_type": "code",
   "execution_count": 11,
   "id": "dcd3dcc7",
   "metadata": {},
   "outputs": [],
   "source": [
    "import nltk\n",
    "from nltk.stem.porter import PorterStemmer\n",
    "from nltk.corpus import stopwords\n",
    "import re\n",
    "# nltk.download('punkt') # For Jupyter Notebook only\n",
    "# nltk.download('stopwords') # For Jupyter Notebook only"
   ]
  },
  {
   "cell_type": "code",
   "execution_count": 12,
   "id": "e296132a",
   "metadata": {},
   "outputs": [],
   "source": [
    "ps = PorterStemmer()"
   ]
  },
  {
   "cell_type": "code",
   "execution_count": 13,
   "id": "e2bf6983",
   "metadata": {},
   "outputs": [],
   "source": [
    "def cleaning(input):\n",
    "    cleaned = re.sub(r'[^a-zA-Z0-9\\s]','',input)\n",
    "    # tokens = nltk.word_tokenize(cleaned.lower())\n",
    "    # stemming = [ps.stem(word) for word in tokens if word not in stopwords.words('english')]\n",
    "    \n",
    "    return \"\".join(cleaned)"
   ]
  },
  {
   "cell_type": "code",
   "execution_count": 14,
   "id": "e84c8c16",
   "metadata": {},
   "outputs": [],
   "source": [
    "cleaned = cleaning(\"lunged where is the maddening recommendation at? \\n\\r &%$@%& @grooving\")"
   ]
  },
  {
   "cell_type": "code",
   "execution_count": 15,
   "id": "f8734346",
   "metadata": {},
   "outputs": [
    {
     "name": "stdout",
     "output_type": "stream",
     "text": [
      "lunged where is the maddening recommendation at \n",
      "  grooving\n"
     ]
    }
   ],
   "source": [
    "print(cleaned)"
   ]
  },
  {
   "cell_type": "code",
   "execution_count": 16,
   "id": "66e2e0af",
   "metadata": {},
   "outputs": [],
   "source": [
    "# ETA 30 seconds\n",
    "df['Title'] = df['Title'].astype(str).apply(lambda x:cleaning(x))\n",
    "df['Job.Description'] = df['Job.Description'].astype(str).apply(lambda x:cleaning(x))\n",
    "df['Position'] = df['Position'].astype(str).apply(lambda x: cleaning(x))"
   ]
  },
  {
   "cell_type": "code",
   "execution_count": 17,
   "id": "75280eca",
   "metadata": {},
   "outputs": [],
   "source": [
    "df['Details'] = df['Job.Description']+\" \"+df['Title']+df['Position']"
   ]
  },
  {
   "cell_type": "code",
   "execution_count": 18,
   "id": "ed064a8a",
   "metadata": {},
   "outputs": [
    {
     "data": {
      "text/html": [
       "<div>\n",
       "<style scoped>\n",
       "    .dataframe tbody tr th:only-of-type {\n",
       "        vertical-align: middle;\n",
       "    }\n",
       "\n",
       "    .dataframe tbody tr th {\n",
       "        vertical-align: top;\n",
       "    }\n",
       "\n",
       "    .dataframe thead th {\n",
       "        text-align: right;\n",
       "    }\n",
       "</style>\n",
       "<table border=\"1\" class=\"dataframe\">\n",
       "  <thead>\n",
       "    <tr style=\"text-align: right;\">\n",
       "      <th></th>\n",
       "      <th>Status</th>\n",
       "      <th>Title</th>\n",
       "      <th>Position</th>\n",
       "      <th>Company</th>\n",
       "      <th>Job.Description</th>\n",
       "      <th>Details</th>\n",
       "    </tr>\n",
       "  </thead>\n",
       "  <tbody>\n",
       "    <tr>\n",
       "      <th>64119</th>\n",
       "      <td>open</td>\n",
       "      <td>Site Director  Knowledge Universe</td>\n",
       "      <td>Site Director</td>\n",
       "      <td>Knowledge Universe</td>\n",
       "      <td>Job Summary Knowledge Universe KU Site Directo...</td>\n",
       "      <td>Job Summary Knowledge Universe KU Site Directo...</td>\n",
       "    </tr>\n",
       "    <tr>\n",
       "      <th>35827</th>\n",
       "      <td>open</td>\n",
       "      <td>Administrative Assistant  OfficeTeam</td>\n",
       "      <td>Administrative Assistant</td>\n",
       "      <td>OfficeTeam</td>\n",
       "      <td>Ref ID 03110118480Classification SecretaryAdmi...</td>\n",
       "      <td>Ref ID 03110118480Classification SecretaryAdmi...</td>\n",
       "    </tr>\n",
       "    <tr>\n",
       "      <th>72100</th>\n",
       "      <td>open</td>\n",
       "      <td>Account Manager  CHI Payment Systems</td>\n",
       "      <td>Account Manager</td>\n",
       "      <td>CHI Payment Systems</td>\n",
       "      <td>If yoursquore energetic motivated hardworking ...</td>\n",
       "      <td>If yoursquore energetic motivated hardworking ...</td>\n",
       "    </tr>\n",
       "    <tr>\n",
       "      <th>46355</th>\n",
       "      <td>open</td>\n",
       "      <td>Outside Wholesale Sales Rep PARTTIME  River Fr...</td>\n",
       "      <td>Outside Wholesale Sales Rep PARTTIME</td>\n",
       "      <td>River Front Chrysler Jeep Dodge</td>\n",
       "      <td>OUTSIDE WHOLESALE SALES REP\\r\\n\\r\\nJob Respons...</td>\n",
       "      <td>OUTSIDE WHOLESALE SALES REP\\r\\n\\r\\nJob Respons...</td>\n",
       "    </tr>\n",
       "    <tr>\n",
       "      <th>34166</th>\n",
       "      <td>open</td>\n",
       "      <td>Customer Service Rep Help People with Hearing ...</td>\n",
       "      <td>Customer Service Rep Help People with Hearing ...</td>\n",
       "      <td>CaptionCall</td>\n",
       "      <td>CaptionCall Communication Assistant    Imagin...</td>\n",
       "      <td>CaptionCall Communication Assistant    Imagin...</td>\n",
       "    </tr>\n",
       "    <tr>\n",
       "      <th>43584</th>\n",
       "      <td>open</td>\n",
       "      <td>Bookkeeper  Accountemps</td>\n",
       "      <td>Bookkeeper</td>\n",
       "      <td>Accountemps</td>\n",
       "      <td>Ref ID00900140759ClassificationBookkeeperCompe...</td>\n",
       "      <td>Ref ID00900140759ClassificationBookkeeperCompe...</td>\n",
       "    </tr>\n",
       "    <tr>\n",
       "      <th>78169</th>\n",
       "      <td>open</td>\n",
       "      <td>Nuclear Medicine Tech PRN  HCAEast Florida</td>\n",
       "      <td>Nuclear Medicine Tech PRN</td>\n",
       "      <td>HCA-East Florida</td>\n",
       "      <td>Job DescriptionNuclear Medicine Tech PRNJob Nu...</td>\n",
       "      <td>Job DescriptionNuclear Medicine Tech PRNJob Nu...</td>\n",
       "    </tr>\n",
       "    <tr>\n",
       "      <th>2211</th>\n",
       "      <td>open</td>\n",
       "      <td>Construction Project Admin Needed ASAP  Office...</td>\n",
       "      <td>Construction Project Admin Needed ASAP</td>\n",
       "      <td>OfficeTeam</td>\n",
       "      <td>Ref ID 001609715006Classification OfficeAdmini...</td>\n",
       "      <td>Ref ID 001609715006Classification OfficeAdmini...</td>\n",
       "    </tr>\n",
       "    <tr>\n",
       "      <th>6936</th>\n",
       "      <td>open</td>\n",
       "      <td>Accounting Clerk  Accountemps</td>\n",
       "      <td>Accounting Clerk</td>\n",
       "      <td>Accountemps</td>\n",
       "      <td>Ref ID03410110048ClassificationAccounting Cler...</td>\n",
       "      <td>Ref ID03410110048ClassificationAccounting Cler...</td>\n",
       "    </tr>\n",
       "    <tr>\n",
       "      <th>7478</th>\n",
       "      <td>open</td>\n",
       "      <td>CASHIER  Murphy USA</td>\n",
       "      <td>CASHIER</td>\n",
       "      <td>Murphy USA</td>\n",
       "      <td>When is a job more than just a jobWhen you kno...</td>\n",
       "      <td>When is a job more than just a jobWhen you kno...</td>\n",
       "    </tr>\n",
       "  </tbody>\n",
       "</table>\n",
       "</div>"
      ],
      "text/plain": [
       "      Status                                              Title  \\\n",
       "64119   open                  Site Director  Knowledge Universe   \n",
       "35827   open               Administrative Assistant  OfficeTeam   \n",
       "72100   open               Account Manager  CHI Payment Systems   \n",
       "46355   open  Outside Wholesale Sales Rep PARTTIME  River Fr...   \n",
       "34166   open  Customer Service Rep Help People with Hearing ...   \n",
       "43584   open                            Bookkeeper  Accountemps   \n",
       "78169   open         Nuclear Medicine Tech PRN  HCAEast Florida   \n",
       "2211    open  Construction Project Admin Needed ASAP  Office...   \n",
       "6936    open                      Accounting Clerk  Accountemps   \n",
       "7478    open                                CASHIER  Murphy USA   \n",
       "\n",
       "                                                Position  \\\n",
       "64119                                      Site Director   \n",
       "35827                           Administrative Assistant   \n",
       "72100                                    Account Manager   \n",
       "46355               Outside Wholesale Sales Rep PARTTIME   \n",
       "34166  Customer Service Rep Help People with Hearing ...   \n",
       "43584                                         Bookkeeper   \n",
       "78169                          Nuclear Medicine Tech PRN   \n",
       "2211              Construction Project Admin Needed ASAP   \n",
       "6936                                    Accounting Clerk   \n",
       "7478                                             CASHIER   \n",
       "\n",
       "                               Company  \\\n",
       "64119               Knowledge Universe   \n",
       "35827                       OfficeTeam   \n",
       "72100              CHI Payment Systems   \n",
       "46355  River Front Chrysler Jeep Dodge   \n",
       "34166                      CaptionCall   \n",
       "43584                      Accountemps   \n",
       "78169                 HCA-East Florida   \n",
       "2211                        OfficeTeam   \n",
       "6936                       Accountemps   \n",
       "7478                        Murphy USA   \n",
       "\n",
       "                                         Job.Description  \\\n",
       "64119  Job Summary Knowledge Universe KU Site Directo...   \n",
       "35827  Ref ID 03110118480Classification SecretaryAdmi...   \n",
       "72100  If yoursquore energetic motivated hardworking ...   \n",
       "46355  OUTSIDE WHOLESALE SALES REP\\r\\n\\r\\nJob Respons...   \n",
       "34166   CaptionCall Communication Assistant    Imagin...   \n",
       "43584  Ref ID00900140759ClassificationBookkeeperCompe...   \n",
       "78169  Job DescriptionNuclear Medicine Tech PRNJob Nu...   \n",
       "2211   Ref ID 001609715006Classification OfficeAdmini...   \n",
       "6936   Ref ID03410110048ClassificationAccounting Cler...   \n",
       "7478   When is a job more than just a jobWhen you kno...   \n",
       "\n",
       "                                                 Details  \n",
       "64119  Job Summary Knowledge Universe KU Site Directo...  \n",
       "35827  Ref ID 03110118480Classification SecretaryAdmi...  \n",
       "72100  If yoursquore energetic motivated hardworking ...  \n",
       "46355  OUTSIDE WHOLESALE SALES REP\\r\\n\\r\\nJob Respons...  \n",
       "34166   CaptionCall Communication Assistant    Imagin...  \n",
       "43584  Ref ID00900140759ClassificationBookkeeperCompe...  \n",
       "78169  Job DescriptionNuclear Medicine Tech PRNJob Nu...  \n",
       "2211   Ref ID 001609715006Classification OfficeAdmini...  \n",
       "6936   Ref ID03410110048ClassificationAccounting Cler...  \n",
       "7478   When is a job more than just a jobWhen you kno...  "
      ]
     },
     "execution_count": 18,
     "metadata": {},
     "output_type": "execute_result"
    }
   ],
   "source": [
    "df.head(10)"
   ]
  },
  {
   "cell_type": "code",
   "execution_count": 19,
   "id": "2378d66b",
   "metadata": {},
   "outputs": [
    {
     "data": {
      "text/plain": [
       "'When is a job more than just a jobWhen you know that you are making a difference in the lives of those around youWhen you go to work every day looking forward to the day ahead of youWhen the decisions you make on the job really matter to those whom you serve Cashier Whether your goal is to begin a fantastic fulltime career or have a great parttime job your talents will be valued and respected at Murphy USA  To be successful as a cashier you need energy an excellent work ethic a great attitude and a smile You will be the face of our company and deliver the legendary customer service that Murphy USA and our associates are known for providing Your responsibilities will includeProviding a prompt efficient and courteous customer experienceResponding and resolving customers requests and concernsAssisting customers with purchases and fuel transactionsOperating cash registerRestocking merchandisePerforming job related duties as assignedA job is more than just a job when its a career at Murphy USA Murphy understands that a career is about much more than a paycheck and benefits Thats why we do our best to provide the most supportive and enjoyable atmosphere possible for our employees Here are just a few reasons why Murphy USA is a great career choiceEnjoy your workMurphy USA offers a fast paced environment where bright talented individuals who are willing to work hard are valued and can make a difference Flexible ScheduleMurphy USA can help you schedule your work around your busy life Advancement OpportunitiesMurphy USA operates over 1000 locations in over 20 states and is adding new locations every year The growth provides career advancement opportunities for top performing team members Earn your degreeAll employees who average 20 hours or more per week are eligible for educational assistance offered by Murphy USA CASHIER  Murphy USACASHIER'"
      ]
     },
     "execution_count": 19,
     "metadata": {},
     "output_type": "execute_result"
    }
   ],
   "source": [
    "df['Details'][7478]"
   ]
  },
  {
   "cell_type": "markdown",
   "id": "adfa9195",
   "metadata": {},
   "source": [
    "# Model Training"
   ]
  },
  {
   "cell_type": "code",
   "execution_count": 20,
   "id": "78928576",
   "metadata": {},
   "outputs": [],
   "source": [
    "from sklearn.feature_extraction.text import TfidfVectorizer\n",
    "from sklearn.metrics.pairwise import cosine_similarity"
   ]
  },
  {
   "cell_type": "code",
   "execution_count": 21,
   "id": "7b122619",
   "metadata": {},
   "outputs": [],
   "source": [
    "tfif = TfidfVectorizer(stop_words='english')\n",
    "matrix = tfif.fit_transform(df['Details'])\n",
    "similarity = cosine_similarity(matrix)"
   ]
  },
  {
   "cell_type": "code",
   "execution_count": 22,
   "id": "ea5c0b10",
   "metadata": {},
   "outputs": [
    {
     "data": {
      "text/plain": [
       "<1000x14144 sparse matrix of type '<class 'numpy.float64'>'\n",
       "\twith 104675 stored elements in Compressed Sparse Row format>"
      ]
     },
     "execution_count": 22,
     "metadata": {},
     "output_type": "execute_result"
    }
   ],
   "source": [
    "matrix"
   ]
  },
  {
   "cell_type": "code",
   "execution_count": 23,
   "id": "79fbface",
   "metadata": {},
   "outputs": [
    {
     "data": {
      "text/plain": [
       "array([1.        , 0.04257474, 0.01675678, 0.01200901, 0.03941838,\n",
       "       0.00830708, 0.02740878, 0.02772943, 0.00553861, 0.03163516,\n",
       "       0.0110012 , 0.02277183, 0.01207861, 0.01731069, 0.00415917,\n",
       "       0.00376161, 0.01966876, 0.03708652, 0.03443471, 0.01790917,\n",
       "       0.        , 0.01693409, 0.01574226, 0.00379244, 0.03483041,\n",
       "       0.02841958, 0.03311532, 0.01355785, 0.01331299, 0.03487323,\n",
       "       0.01402409, 0.04086562, 0.00802472, 0.0166385 , 0.00584479,\n",
       "       0.03030923, 0.01372913, 0.06597881, 0.11181424, 0.01188198,\n",
       "       0.03870526, 0.0145428 , 0.00381656, 0.03425482, 0.01628941,\n",
       "       0.01679738, 0.05734412, 0.01523174, 0.03104918, 0.        ,\n",
       "       0.00514022, 0.01548367, 0.10326266, 0.01325829, 0.01162116,\n",
       "       0.00331836, 0.04108788, 0.0583414 , 0.01034879, 0.1327684 ,\n",
       "       0.0353497 , 0.00885433, 0.02631562, 0.03201319, 0.04230397,\n",
       "       0.00611262, 0.01555892, 0.02053775, 0.01244076, 0.02243273,\n",
       "       0.00649587, 0.        , 0.07834376, 0.01325677, 0.02602066,\n",
       "       0.01244464, 0.02620511, 0.01230227, 0.00903297, 0.02422195,\n",
       "       0.01637284, 0.43489753, 0.00868134, 0.01727745, 0.04036375,\n",
       "       0.02135714, 0.01268302, 0.02317807, 0.02302995, 0.02530208,\n",
       "       0.03232229, 0.00475326, 0.02392193, 0.02158447, 0.06381664,\n",
       "       0.00408668, 0.04942137, 0.02435936, 0.01713876, 0.01067335,\n",
       "       0.01488176, 0.01327375, 0.0140416 , 0.00109657, 0.02147292,\n",
       "       0.02462129, 0.02147292, 0.00718547, 0.01069021, 0.        ,\n",
       "       0.05964972, 0.01735503, 0.0461458 , 0.11736293, 0.10644715,\n",
       "       0.0683156 , 0.        , 0.02141758, 0.00879578, 0.00752842,\n",
       "       0.03553834, 0.04007629, 0.0214819 , 0.01471378, 0.06180271,\n",
       "       0.00808573, 0.01628941, 0.00710434, 0.20372303, 0.00900334,\n",
       "       0.01629966, 0.02025556, 0.04032677, 0.02838368, 0.05258898,\n",
       "       0.05757635, 0.02008578, 0.        , 0.01067335, 0.01441748,\n",
       "       0.00315188, 0.02544511, 0.00612489, 0.02132055, 0.0049874 ,\n",
       "       0.00559712, 0.01050922, 0.03601344, 0.019872  , 0.04432815,\n",
       "       0.        , 0.01484699, 0.034244  , 0.00437038, 0.01853388,\n",
       "       0.00543015, 0.0101056 , 0.05075368, 0.03207073, 0.0163393 ,\n",
       "       0.03548605, 0.0056254 , 0.00180775, 0.0414081 , 0.00998783,\n",
       "       0.01971395, 0.        , 0.01957511, 0.02937919, 0.01569549,\n",
       "       0.00435236, 0.01037666, 0.01029991, 0.03487323, 0.00175233,\n",
       "       0.03487323, 0.03171122, 0.01716262, 0.02540455, 0.00967265,\n",
       "       0.0340824 , 0.00873899, 0.01111832, 0.        , 0.01663412,\n",
       "       0.01931647, 0.03443471, 0.02507243, 0.0158293 , 0.02542296,\n",
       "       0.00524888, 0.02145616, 0.        , 0.05183461, 0.01726798,\n",
       "       0.10714811, 0.04496117, 0.03095257, 0.02430812, 0.01214831,\n",
       "       0.01763971, 0.00777289, 0.02932373, 0.02536454, 0.03046241,\n",
       "       0.06859694, 0.02643491, 0.04434832, 0.03440397, 0.03471819,\n",
       "       0.03653898, 0.00878229, 0.02094028, 0.0381343 , 0.02629529,\n",
       "       0.01594107, 0.0621164 , 0.01277707, 0.02679766, 0.01254726,\n",
       "       0.04432815, 0.03817457, 0.0402756 , 0.03586527, 0.03714497,\n",
       "       0.01739423, 0.00346114, 0.02069323, 0.        , 0.05501478,\n",
       "       0.00885433, 0.0113155 , 0.00727843, 0.02447963, 0.02524088,\n",
       "       0.02496311, 0.00437103, 0.04432815, 0.00228864, 0.02181305,\n",
       "       0.01620388, 0.02194989, 0.02080531, 0.00701003, 0.02003054,\n",
       "       0.12126336, 0.04188788, 0.04779107, 0.01002529, 0.00798232,\n",
       "       0.04702291, 0.04227723, 0.22928462, 0.00861527, 0.09863348,\n",
       "       0.02282104, 0.01803558, 0.03810728, 0.04128953, 0.02010429,\n",
       "       0.01560388, 0.03565066, 0.04734186, 0.0334897 , 0.02214411,\n",
       "       0.01177404, 0.02540125, 0.00740096, 0.00295367, 0.052628  ,\n",
       "       0.00142873, 0.00948753, 0.00404841, 0.01713821, 0.03653898,\n",
       "       0.06503698, 0.97346047, 0.03487323, 0.        , 0.01073388,\n",
       "       0.03596765, 0.03733501, 0.00803412, 0.04966189, 0.10663685,\n",
       "       0.03555458, 0.        , 0.01814413, 0.02334893, 0.01468759,\n",
       "       0.0456381 , 0.01174706, 0.02080531, 0.06474786, 0.0120925 ,\n",
       "       0.05180383, 0.01673753, 0.00555398, 0.14164243, 0.00729848,\n",
       "       0.03123289, 0.00467765, 0.01643238, 0.03093343, 0.02064547,\n",
       "       0.01517784, 0.00106689, 0.02282104, 0.01532916, 0.01468759,\n",
       "       0.02433187, 0.01664549, 0.05857132, 0.05371635, 0.03487323,\n",
       "       0.01410975, 0.05962394, 0.01336355, 0.03443944, 0.09823593,\n",
       "       0.02661519, 0.05387333, 0.0083773 , 0.01198682, 0.01904237,\n",
       "       0.00715041, 0.10998712, 0.04408971, 0.03487323, 0.00742803,\n",
       "       0.01570609, 0.06191441, 0.04190198, 0.00382261, 0.01923528,\n",
       "       0.01221318, 0.05198295, 0.02515689, 0.062229  , 0.01952121,\n",
       "       0.00415471, 0.07571075, 0.02818828, 0.03907572, 0.03033518,\n",
       "       0.00183974, 0.00159475, 0.07979888, 0.        , 0.04145603,\n",
       "       0.00499737, 0.05904788, 0.0113155 , 0.00476401, 0.04439661,\n",
       "       0.06777074, 0.00881619, 0.00170835, 0.01642959, 0.02902444,\n",
       "       0.12628837, 0.03872944, 0.07551698, 0.06482975, 0.02003054,\n",
       "       0.02157886, 0.03763775, 0.02064587, 0.04432815, 0.03232229,\n",
       "       0.03238548, 0.02352195, 0.02419945, 0.02634939, 0.04168616,\n",
       "       0.01966034, 0.        , 0.01161266, 0.01794511, 0.01440778,\n",
       "       0.0166385 , 0.04862973, 0.01839566, 0.01653741, 0.02697239,\n",
       "       0.02820136, 0.02824202, 0.00184884, 0.00543015, 0.02994266,\n",
       "       0.00716386, 0.00938017, 0.03339141, 0.04432815, 0.04805649,\n",
       "       0.09097627, 0.00342721, 0.03606063, 0.07824522, 0.0141295 ,\n",
       "       0.0385979 , 0.02223204, 0.02924958, 0.03721784, 0.02994266,\n",
       "       0.0049587 , 0.00705816, 0.05661592, 0.01633088, 0.00444156,\n",
       "       0.02089994, 0.02282104, 0.04416031, 0.05820657, 0.03487323,\n",
       "       0.00674408, 0.03573295, 0.0117298 , 0.0073164 , 0.00581934,\n",
       "       0.03392796, 0.00509484, 0.00948974, 0.00385195, 0.04691818,\n",
       "       0.03262447, 0.0255439 , 0.02598241, 0.03487323, 0.04138216,\n",
       "       0.00348771, 0.02302818, 0.04107441, 0.08258255, 0.00848251,\n",
       "       0.01096078, 0.01493268, 0.04160029, 0.0104023 , 0.03874917,\n",
       "       0.02434807, 0.00973594, 0.00697478, 0.01704351, 0.        ,\n",
       "       0.0447115 , 0.01570609, 0.01672397, 0.02111255, 0.        ,\n",
       "       0.04079329, 0.03019374, 0.00199662, 0.0106451 , 0.01068614,\n",
       "       0.01967331, 0.05090403, 0.05389686, 0.02738156, 0.01037666,\n",
       "       0.02982218, 0.03192719, 0.01101957, 0.02257534, 0.03491624,\n",
       "       0.03081603, 0.03130608, 0.05216826, 0.08351481, 0.09808732,\n",
       "       0.04011837, 0.0034867 , 0.02067145, 0.00894107, 0.00938017,\n",
       "       0.03734808, 0.00681267, 0.03126649, 0.01415498, 0.00782443,\n",
       "       0.02975522, 0.04796621, 0.02303915, 0.03202855, 0.02617745,\n",
       "       0.04835637, 0.02056314, 0.02179708, 0.07649808, 0.01401437,\n",
       "       0.0124448 , 0.06779866, 0.03163516, 0.00825719, 0.01231341,\n",
       "       0.0034709 , 0.00892663, 0.03048154, 0.01068132, 0.02643491,\n",
       "       0.01049643, 0.00785842, 0.00929795, 0.03487323, 0.01046407,\n",
       "       0.03487323, 0.01465437, 0.01423528, 0.        , 0.03207187,\n",
       "       0.01357865, 0.02984187, 0.        , 0.00463201, 0.0114154 ,\n",
       "       0.05115921, 0.01432807, 0.04003319, 0.0159165 , 0.03706547,\n",
       "       0.0509733 , 0.03511464, 0.01941389, 0.        , 0.01050411,\n",
       "       0.01115051, 0.01542668, 0.04943711, 0.06195406, 0.00747117,\n",
       "       0.03202855, 0.04098204, 0.03444433, 0.0185639 , 0.02983841,\n",
       "       0.01355523, 0.0394966 , 0.01003721, 0.03796368, 0.09742753,\n",
       "       0.01365841, 0.00606287, 0.02164497, 0.        , 0.02973932,\n",
       "       0.0065401 , 0.005206  , 0.03653898, 0.06073414, 0.        ,\n",
       "       0.00501652, 0.01793588, 0.01493544, 0.01104771, 0.0230883 ,\n",
       "       0.00647994, 0.09467495, 0.0229994 , 0.01098398, 0.02391693,\n",
       "       0.        , 0.00534732, 0.01116336, 0.02282104, 0.02551269,\n",
       "       0.04669652, 0.00134408, 0.02574777, 0.00710962, 0.01113967,\n",
       "       0.01996226, 0.03283239, 0.04460816, 0.03723003, 0.01079515,\n",
       "       0.01264096, 0.00326203, 0.        , 0.00552597, 0.01533017,\n",
       "       0.01116579, 0.01335869, 0.06158313, 0.03841607, 0.04314629,\n",
       "       0.00809696, 0.01065445, 0.0036198 , 0.00358221, 0.        ,\n",
       "       0.02062102, 0.0214331 , 0.03081637, 0.03223665, 0.03563296,\n",
       "       0.04093401, 0.02142653, 0.02932901, 0.00338189, 0.01111768,\n",
       "       0.00885433, 0.00480654, 0.04639692, 0.00946152, 0.03086065,\n",
       "       0.00977469, 0.01666885, 0.01299212, 0.01052112, 0.01067335,\n",
       "       0.04458668, 0.01591997, 0.01543727, 0.04702291, 0.01175634,\n",
       "       0.02807279, 0.04066312, 0.00907557, 0.01194971, 0.        ,\n",
       "       0.        , 0.0137238 , 0.03996496, 0.00937529, 0.0265362 ,\n",
       "       0.04787265, 0.0155766 , 0.02448918, 0.00363094, 0.18918759,\n",
       "       0.0079465 , 0.02147292, 0.03661681, 0.00190473, 0.        ,\n",
       "       0.04888905, 0.01397318, 0.00536059, 0.        , 0.02461064,\n",
       "       0.00695494, 0.03579458, 0.05940725, 0.02312359, 0.06103183,\n",
       "       0.02669576, 0.01592991, 0.02207869, 0.03777543, 0.01641561,\n",
       "       0.00538517, 0.01878539, 0.00950321, 0.0110012 , 0.00202454,\n",
       "       0.0947889 , 0.00225014, 0.00743583, 0.10326266, 0.04895658,\n",
       "       0.00256903, 0.01123412, 0.00638032, 0.02887538, 0.02548516,\n",
       "       0.0949717 , 0.01163712, 0.01312729, 0.        , 0.02953221,\n",
       "       0.06794381, 0.04362528, 0.00735798, 0.02643491, 0.00270588,\n",
       "       0.01783826, 0.03477079, 0.00710845, 0.03144501, 0.0669359 ,\n",
       "       0.03811882, 0.01847677, 0.00864054, 0.01705221, 0.00558849,\n",
       "       0.        , 0.01375511, 0.04007764, 0.01722688, 0.01482026,\n",
       "       0.0103408 , 0.00494763, 0.01963233, 0.        , 0.01187645,\n",
       "       0.02813867, 0.07584069, 0.02542099, 0.04786504, 0.0261478 ,\n",
       "       0.00627712, 0.04571195, 0.02459597, 0.03531505, 0.0098195 ,\n",
       "       0.03113779, 0.02375545, 0.00620759, 0.03476458, 0.02428126,\n",
       "       0.04315815, 0.00977102, 0.03115283, 0.01634999, 0.01744774,\n",
       "       0.00525876, 0.00812973, 0.00798432, 0.04955657, 0.03390029,\n",
       "       0.0060772 , 0.03167507, 0.00254962, 0.04841988, 0.02428087,\n",
       "       0.02435936, 0.01449718, 0.01034879, 0.03434758, 0.00938017,\n",
       "       0.45631879, 0.00828565, 0.08536856, 0.03293906, 0.09048253,\n",
       "       0.01869929, 0.02415302, 0.01419582, 0.00619632, 0.0492435 ,\n",
       "       0.05075368, 0.04444189, 0.        , 0.01491465, 0.04955657,\n",
       "       0.        , 0.02530044, 0.0307345 , 0.01517262, 0.04230397,\n",
       "       0.        , 0.01880243, 0.01869407, 0.0223726 , 0.00558977,\n",
       "       0.00873589, 0.09209598, 0.01051505, 0.03883398, 0.02330411,\n",
       "       0.0278415 , 0.06674017, 0.02643491, 0.01184099, 0.00433888,\n",
       "       0.01341885, 0.01527979, 0.01573945, 0.        , 0.02602066,\n",
       "       0.03719837, 0.00512338, 0.00681267, 0.02200235, 0.00572427,\n",
       "       0.02097709, 0.0183153 , 0.01497151, 0.01464047, 0.02668728,\n",
       "       0.03027065, 0.02282104, 0.01792118, 0.02183409, 0.        ,\n",
       "       0.01533437, 0.00113996, 0.        , 0.02999293, 0.02935757,\n",
       "       0.03714784, 0.01812618, 0.02842196, 0.01441006, 0.04868423,\n",
       "       0.00106689, 0.01055712, 0.03181451, 0.05229529, 0.        ,\n",
       "       0.01071503, 0.00295509, 0.01133745, 0.05919788, 0.02318705,\n",
       "       0.01168919, 0.0250291 , 0.01741322, 0.03372195, 0.0414568 ,\n",
       "       0.0114154 , 0.04124105, 0.02994266, 0.        , 0.00809741,\n",
       "       0.        , 0.0242014 , 0.02381685, 0.        , 0.0475544 ,\n",
       "       0.        , 0.01384405, 0.02926299, 0.01054653, 0.03883398,\n",
       "       0.1474261 , 0.00397355, 0.01529577, 0.0017363 , 0.04432815,\n",
       "       0.04006744, 0.00832268, 0.0598917 , 0.01656691, 0.03202855,\n",
       "       0.        , 0.01633423, 0.        , 0.00477251, 0.04591667,\n",
       "       0.04131907, 0.01270783, 0.02713889, 0.00381151, 0.00312863,\n",
       "       0.01624104, 0.0028156 , 0.05571361, 0.0141485 , 0.05198274,\n",
       "       0.04385575, 0.02587344, 0.01552236, 0.0313991 , 0.040119  ,\n",
       "       0.        , 0.02804121, 0.10480626, 0.04002968, 0.03202855,\n",
       "       0.01478314, 0.00698666, 0.03724205, 0.01607339, 0.0036637 ,\n",
       "       0.08767045, 0.01421624, 0.00466478, 0.03881211, 0.00985459,\n",
       "       0.02634939, 0.00689626, 0.01899995, 0.03041743, 0.0097738 ,\n",
       "       0.01884357, 0.00611823, 0.04432815, 0.00922109, 0.03283239,\n",
       "       0.01067335, 0.02675858, 0.02750392, 0.01026125, 0.04602889,\n",
       "       0.        , 0.07020585, 0.01902195, 0.        , 0.03883398,\n",
       "       0.09382651, 0.03406886, 0.05719486, 0.03572977, 0.02897042,\n",
       "       0.02945229, 0.01152305, 0.01231005, 0.04124409, 0.01139643,\n",
       "       0.        , 0.02263179, 0.00504131, 0.03562933, 0.08359788,\n",
       "       0.04432815, 0.04401109, 0.00803938, 0.02368152, 0.01580916,\n",
       "       0.04084288, 0.00183558, 0.01901447, 0.01486275, 0.        ,\n",
       "       0.02477674, 0.03001921, 0.43489753, 0.02534713, 0.02303954,\n",
       "       0.0014712 , 0.00985949, 0.03157094, 0.01740593, 0.02282104,\n",
       "       0.02408154, 0.00885433, 0.03310359, 0.01369519, 0.01039551,\n",
       "       0.00213316, 0.0262213 , 0.01966151, 0.01039947, 0.01129635,\n",
       "       0.03777821, 0.00663437, 0.00720357, 0.01406164, 0.00313893,\n",
       "       0.10309077, 0.04486323, 0.00527572, 0.00229918, 0.01963287,\n",
       "       0.02095522, 0.03487323, 0.03611821, 0.04572947, 0.0118908 ,\n",
       "       0.01171671, 0.01638292, 0.01113967, 0.0110012 , 0.01306584,\n",
       "       0.01758293, 0.00971996, 0.0420727 , 0.02572749, 0.05371635,\n",
       "       0.02976008, 0.02296442, 0.01039838, 0.03789774, 0.02567633,\n",
       "       0.09972975, 0.00776426, 0.03351468, 0.01209987, 0.01737412,\n",
       "       0.02781101, 0.02993053, 0.03590286, 0.02469086, 0.01090427,\n",
       "       0.04705921, 0.01049421, 0.0110012 , 0.03493254, 0.00639966,\n",
       "       0.02221946, 0.01823917, 0.05092604, 0.00242525, 0.0076389 ,\n",
       "       0.01297489, 0.        , 0.00986778, 0.        , 0.03512237,\n",
       "       0.01635932, 0.02516833, 0.03811135, 0.05659403, 0.01498751,\n",
       "       0.03487323, 0.01673395, 0.0368275 , 0.01617124, 0.05771997])"
      ]
     },
     "execution_count": 23,
     "metadata": {},
     "output_type": "execute_result"
    }
   ],
   "source": [
    "similarity[0]"
   ]
  },
  {
   "cell_type": "code",
   "execution_count": 24,
   "id": "c12663ca",
   "metadata": {},
   "outputs": [],
   "source": [
    "sorting = sorted(list(enumerate(similarity[0])), key=lambda x: x[1], reverse=True)[1:20]"
   ]
  },
  {
   "cell_type": "code",
   "execution_count": 25,
   "id": "deea1ec8",
   "metadata": {},
   "outputs": [
    {
     "name": "stdout",
     "output_type": "stream",
     "text": [
      "[(276, 0.9734604668946958), (730, 0.45631879168658446), (81, 0.43489753074377974), (917, 0.43489753074377974), (252, 0.22928461723818683), (128, 0.20372303457856225), (629, 0.1891875949368748), (825, 0.14742610075292173), (298, 0.141642433607183), (59, 0.13276840013270513), (360, 0.12628837276828536), (245, 0.1212633608851429), (113, 0.11736292505665025), (38, 0.11181424465688704), (326, 0.10998712115590192), (195, 0.10714810702558314), (284, 0.10663684958487911), (114, 0.1064471529213854), (857, 0.10480625945651803)]\n"
     ]
    }
   ],
   "source": [
    "print(sorting)"
   ]
  },
  {
   "cell_type": "markdown",
   "id": "f8728e85",
   "metadata": {},
   "source": [
    "# Scatterplot"
   ]
  },
  {
   "cell_type": "code",
   "execution_count": 26,
   "id": "0ee1b6e2",
   "metadata": {},
   "outputs": [],
   "source": [
    "import matplotlib.pyplot as plt"
   ]
  },
  {
   "cell_type": "code",
   "execution_count": 27,
   "id": "a8ca0bbe",
   "metadata": {},
   "outputs": [],
   "source": [
    "# Extract x and y coordinates\n",
    "x = [cosineSimilarity[1] for cosineSimilarity in sorting]\n",
    "y = [indexValue[0] for indexValue in sorting]"
   ]
  },
  {
   "cell_type": "code",
   "execution_count": 28,
   "id": "91c2381c",
   "metadata": {},
   "outputs": [
    {
     "data": {
      "text/plain": [
       "<matplotlib.collections.PathCollection at 0x17c8a30d890>"
      ]
     },
     "execution_count": 28,
     "metadata": {},
     "output_type": "execute_result"
    },
    {
     "data": {
      "image/png": "[encoded data removed]",
      "text/plain": [
       "<Figure size 640x480 with 1 Axes>"
      ]
     },
     "metadata": {},
     "output_type": "display_data"
    }
   ],
   "source": [
    "# Adding labels and the title to graph\n",
    "plt.title('Graph Representation')\n",
    "plt.xlabel('Cosine Similarity')\n",
    "plt.ylabel('Index Value')\n",
    "\n",
    "# Plotting the scatter plot\n",
    "plt.scatter(x, y)"
   ]
  },
  {
   "cell_type": "markdown",
   "id": "54f72418",
   "metadata": {},
   "source": [
    "# Backend Job Recommendation System"
   ]
  },
  {
   "cell_type": "code",
   "execution_count": 29,
   "id": "6e3eb1fb",
   "metadata": {},
   "outputs": [],
   "source": [
    "def recommendation(title):\n",
    "    placeIndex = df[df['Title'] == title].index[0]\n",
    "    placeIndex = df.index.get_loc(placeIndex)\n",
    "    distances = sorted(list(enumerate(similarity[placeIndex])),key=lambda x: x[1], reverse=True)[0:20]\n",
    "    \n",
    "    jobs = []\n",
    "    for i in distances:\n",
    "        jobs.append(df.iloc[i[0]].Title)\n",
    "    return jobs"
   ]
  },
  {
   "cell_type": "code",
   "execution_count": 30,
   "id": "ac44cbac",
   "metadata": {},
   "outputs": [
    {
     "data": {
      "text/plain": [
       "['Site Director  Knowledge Universe',\n",
       " 'Site Director  Knowledge Universe Education LLC',\n",
       " 'Teacher  Knowledge Universe',\n",
       " 'Assistant Teacher  Knowledge Universe',\n",
       " 'Assistant Teacher  Knowledge Universe',\n",
       " 'Cook  Knowledge Universe',\n",
       " 'Immediate Openings For Assistant Teachers  La Petite Academy',\n",
       " 'Temporary Coordinator Site Operations macyscom  Macys',\n",
       " 'HVAC Instructor  Vatterott Educational Centers',\n",
       " 'Security Officer  Regular  Securitas USA',\n",
       " 'Security Officer  100000 Jobs Coalition  Securitas USA',\n",
       " 'Summer School Age Assistant  Childrens Courtyard',\n",
       " 'Medical Office Assistant Instructor  Concorde Career Colleges Inc',\n",
       " 'Armed Security Officer  Securitas USA',\n",
       " 'Fellowship Program Coordinator  Connecticut Childrens Medical Center',\n",
       " 'Patient Serv Rep Onsite I  ES  Firstsource Solutions Ltd',\n",
       " 'Faculty I  On Call  Zenith Education group',\n",
       " 'Faculty  IT IT Support Specialist  Zenith Education group',\n",
       " 'Youth Camp Residential Assistant  Activity Coordinator  New York NY  ELS Educational Services',\n",
       " 'After Hours Case Manager  Franziska Racker Centers']"
      ]
     },
     "execution_count": 30,
     "metadata": {},
     "output_type": "execute_result"
    }
   ],
   "source": [
    "recommendation(\"Site Director  Knowledge Universe\")"
   ]
  },
  {
   "cell_type": "code",
   "execution_count": 31,
   "id": "7452adb5",
   "metadata": {},
   "outputs": [],
   "source": [
    "import pickle\n",
    "pickle.dump(df, open(\"df.pkl\", 'wb'))\n",
    "pickle.dump(similarity, open('similarity.pkl', 'wb'))"
   ]
  }
 ],
 "metadata": {
  "kernelspec": {
   "display_name": "Python 3 (ipykernel)",
   "language": "python",
   "name": "python3"
  },
  "language_info": {
   "codemirror_mode": {
    "name": "ipython",
    "version": 3
   },
   "file_extension": ".py",
   "mimetype": "text/x-python",
   "name": "python",
   "nbconvert_exporter": "python",
   "pygments_lexer": "ipython3",
   "version": "3.11.4"
  }
 },
 "nbformat": 4,
 "nbformat_minor": 5
}
